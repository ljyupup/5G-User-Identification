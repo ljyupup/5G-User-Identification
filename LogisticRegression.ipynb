{
 "cells": [
  {
   "cell_type": "code",
   "execution_count": 1,
   "id": "32531289",
   "metadata": {},
   "outputs": [],
   "source": [
    "#导入所需的包\n",
    "import pandas as pd\n",
    "import numpy as np\n",
    "import matplotlib.pyplot as plt\n",
    "\n",
    "from sklearn.linear_model import LogisticRegression as LR\n",
    "from sklearn.model_selection import train_test_split\n",
    "from sklearn.metrics import confusion_matrix,classification_report\n",
    "from sklearn.metrics import roc_auc_score,roc_curve,auc"
   ]
  },
  {
   "cell_type": "code",
   "execution_count": 2,
   "id": "cadcf5f1",
   "metadata": {},
   "outputs": [
    {
     "data": {
      "text/html": [
       "<div>\n",
       "<style scoped>\n",
       "    .dataframe tbody tr th:only-of-type {\n",
       "        vertical-align: middle;\n",
       "    }\n",
       "\n",
       "    .dataframe tbody tr th {\n",
       "        vertical-align: top;\n",
       "    }\n",
       "\n",
       "    .dataframe thead th {\n",
       "        text-align: right;\n",
       "    }\n",
       "</style>\n",
       "<table border=\"1\" class=\"dataframe\">\n",
       "  <thead>\n",
       "    <tr style=\"text-align: right;\">\n",
       "      <th></th>\n",
       "      <th>id</th>\n",
       "      <th>cat_0</th>\n",
       "      <th>cat_1</th>\n",
       "      <th>cat_2</th>\n",
       "      <th>cat_3</th>\n",
       "      <th>cat_4</th>\n",
       "      <th>cat_5</th>\n",
       "      <th>cat_6</th>\n",
       "      <th>cat_7</th>\n",
       "      <th>cat_8</th>\n",
       "      <th>...</th>\n",
       "      <th>num_29</th>\n",
       "      <th>num_30</th>\n",
       "      <th>num_31</th>\n",
       "      <th>num_32</th>\n",
       "      <th>num_33</th>\n",
       "      <th>num_34</th>\n",
       "      <th>num_35</th>\n",
       "      <th>num_36</th>\n",
       "      <th>num_37</th>\n",
       "      <th>target</th>\n",
       "    </tr>\n",
       "  </thead>\n",
       "  <tbody>\n",
       "    <tr>\n",
       "      <th>0</th>\n",
       "      <td>0</td>\n",
       "      <td>2</td>\n",
       "      <td>103</td>\n",
       "      <td>9</td>\n",
       "      <td>4</td>\n",
       "      <td>3</td>\n",
       "      <td>1</td>\n",
       "      <td>3</td>\n",
       "      <td>4</td>\n",
       "      <td>4</td>\n",
       "      <td>...</td>\n",
       "      <td>2.000000</td>\n",
       "      <td>3.0</td>\n",
       "      <td>0.000000</td>\n",
       "      <td>0.0</td>\n",
       "      <td>0.0</td>\n",
       "      <td>0.0</td>\n",
       "      <td>0.0</td>\n",
       "      <td>0.089758</td>\n",
       "      <td>0.000129</td>\n",
       "      <td>0.0</td>\n",
       "    </tr>\n",
       "    <tr>\n",
       "      <th>1</th>\n",
       "      <td>1</td>\n",
       "      <td>0</td>\n",
       "      <td>177</td>\n",
       "      <td>6</td>\n",
       "      <td>2</td>\n",
       "      <td>2</td>\n",
       "      <td>1</td>\n",
       "      <td>2</td>\n",
       "      <td>4</td>\n",
       "      <td>4</td>\n",
       "      <td>...</td>\n",
       "      <td>0.968742</td>\n",
       "      <td>0.0</td>\n",
       "      <td>0.000000</td>\n",
       "      <td>0.0</td>\n",
       "      <td>0.0</td>\n",
       "      <td>0.0</td>\n",
       "      <td>0.0</td>\n",
       "      <td>0.000000</td>\n",
       "      <td>0.000312</td>\n",
       "      <td>0.0</td>\n",
       "    </tr>\n",
       "    <tr>\n",
       "      <th>2</th>\n",
       "      <td>2</td>\n",
       "      <td>7</td>\n",
       "      <td>70</td>\n",
       "      <td>7</td>\n",
       "      <td>4</td>\n",
       "      <td>5</td>\n",
       "      <td>0</td>\n",
       "      <td>3</td>\n",
       "      <td>4</td>\n",
       "      <td>4</td>\n",
       "      <td>...</td>\n",
       "      <td>0.000000</td>\n",
       "      <td>0.0</td>\n",
       "      <td>0.000000</td>\n",
       "      <td>0.0</td>\n",
       "      <td>0.0</td>\n",
       "      <td>0.0</td>\n",
       "      <td>0.0</td>\n",
       "      <td>0.000000</td>\n",
       "      <td>0.000164</td>\n",
       "      <td>0.0</td>\n",
       "    </tr>\n",
       "    <tr>\n",
       "      <th>3</th>\n",
       "      <td>3</td>\n",
       "      <td>11</td>\n",
       "      <td>166</td>\n",
       "      <td>7</td>\n",
       "      <td>2</td>\n",
       "      <td>3</td>\n",
       "      <td>1</td>\n",
       "      <td>1</td>\n",
       "      <td>1</td>\n",
       "      <td>2</td>\n",
       "      <td>...</td>\n",
       "      <td>0.021729</td>\n",
       "      <td>0.0</td>\n",
       "      <td>0.021729</td>\n",
       "      <td>0.0</td>\n",
       "      <td>0.0</td>\n",
       "      <td>0.0</td>\n",
       "      <td>0.0</td>\n",
       "      <td>0.000081</td>\n",
       "      <td>0.000205</td>\n",
       "      <td>0.0</td>\n",
       "    </tr>\n",
       "    <tr>\n",
       "      <th>4</th>\n",
       "      <td>4</td>\n",
       "      <td>0</td>\n",
       "      <td>178</td>\n",
       "      <td>10</td>\n",
       "      <td>4</td>\n",
       "      <td>3</td>\n",
       "      <td>0</td>\n",
       "      <td>4</td>\n",
       "      <td>4</td>\n",
       "      <td>4</td>\n",
       "      <td>...</td>\n",
       "      <td>30.000000</td>\n",
       "      <td>30.0</td>\n",
       "      <td>0.000000</td>\n",
       "      <td>0.0</td>\n",
       "      <td>0.0</td>\n",
       "      <td>0.0</td>\n",
       "      <td>0.0</td>\n",
       "      <td>6127.621124</td>\n",
       "      <td>0.000298</td>\n",
       "      <td>0.0</td>\n",
       "    </tr>\n",
       "  </tbody>\n",
       "</table>\n",
       "<p>5 rows × 60 columns</p>\n",
       "</div>"
      ],
      "text/plain": [
       "   id  cat_0  cat_1  cat_2  cat_3  cat_4  cat_5  cat_6  cat_7  cat_8  ...  \\\n",
       "0   0      2    103      9      4      3      1      3      4      4  ...   \n",
       "1   1      0    177      6      2      2      1      2      4      4  ...   \n",
       "2   2      7     70      7      4      5      0      3      4      4  ...   \n",
       "3   3     11    166      7      2      3      1      1      1      2  ...   \n",
       "4   4      0    178     10      4      3      0      4      4      4  ...   \n",
       "\n",
       "      num_29  num_30    num_31  num_32  num_33  num_34  num_35       num_36  \\\n",
       "0   2.000000     3.0  0.000000     0.0     0.0     0.0     0.0     0.089758   \n",
       "1   0.968742     0.0  0.000000     0.0     0.0     0.0     0.0     0.000000   \n",
       "2   0.000000     0.0  0.000000     0.0     0.0     0.0     0.0     0.000000   \n",
       "3   0.021729     0.0  0.021729     0.0     0.0     0.0     0.0     0.000081   \n",
       "4  30.000000    30.0  0.000000     0.0     0.0     0.0     0.0  6127.621124   \n",
       "\n",
       "     num_37  target  \n",
       "0  0.000129     0.0  \n",
       "1  0.000312     0.0  \n",
       "2  0.000164     0.0  \n",
       "3  0.000205     0.0  \n",
       "4  0.000298     0.0  \n",
       "\n",
       "[5 rows x 60 columns]"
      ]
     },
     "execution_count": 2,
     "metadata": {},
     "output_type": "execute_result"
    }
   ],
   "source": [
    "#导入原始数据集\n",
    "df=pd.read_csv('./train.csv')\n",
    "df.head()"
   ]
  },
  {
   "cell_type": "code",
   "execution_count": 4,
   "id": "da0e3b2e",
   "metadata": {},
   "outputs": [
    {
     "name": "stdout",
     "output_type": "stream",
     "text": [
      "<class 'pandas.core.frame.DataFrame'>\n",
      "RangeIndex: 800000 entries, 0 to 799999\n",
      "Data columns (total 60 columns):\n",
      " #   Column  Non-Null Count   Dtype  \n",
      "---  ------  --------------   -----  \n",
      " 0   id      800000 non-null  int64  \n",
      " 1   cat_0   800000 non-null  int64  \n",
      " 2   cat_1   800000 non-null  int64  \n",
      " 3   cat_2   800000 non-null  int64  \n",
      " 4   cat_3   800000 non-null  int64  \n",
      " 5   cat_4   800000 non-null  int64  \n",
      " 6   cat_5   800000 non-null  int64  \n",
      " 7   cat_6   800000 non-null  int64  \n",
      " 8   cat_7   800000 non-null  int64  \n",
      " 9   cat_8   800000 non-null  int64  \n",
      " 10  cat_9   800000 non-null  int64  \n",
      " 11  cat_10  800000 non-null  int64  \n",
      " 12  cat_11  800000 non-null  int64  \n",
      " 13  cat_12  800000 non-null  float64\n",
      " 14  cat_13  800000 non-null  int64  \n",
      " 15  cat_14  800000 non-null  int64  \n",
      " 16  cat_15  800000 non-null  int64  \n",
      " 17  cat_16  800000 non-null  int64  \n",
      " 18  cat_17  800000 non-null  int64  \n",
      " 19  cat_18  800000 non-null  int64  \n",
      " 20  cat_19  800000 non-null  int64  \n",
      " 21  num_0   800000 non-null  int64  \n",
      " 22  num_1   800000 non-null  float64\n",
      " 23  num_2   800000 non-null  float64\n",
      " 24  num_3   800000 non-null  float64\n",
      " 25  num_4   800000 non-null  float64\n",
      " 26  num_5   800000 non-null  int64  \n",
      " 27  num_6   800000 non-null  float64\n",
      " 28  num_7   800000 non-null  float64\n",
      " 29  num_8   800000 non-null  float64\n",
      " 30  num_9   800000 non-null  float64\n",
      " 31  num_10  800000 non-null  float64\n",
      " 32  num_11  800000 non-null  float64\n",
      " 33  num_12  800000 non-null  float64\n",
      " 34  num_13  800000 non-null  float64\n",
      " 35  num_14  800000 non-null  float64\n",
      " 36  num_15  800000 non-null  float64\n",
      " 37  num_16  800000 non-null  float64\n",
      " 38  num_17  800000 non-null  float64\n",
      " 39  num_18  800000 non-null  float64\n",
      " 40  num_19  800000 non-null  float64\n",
      " 41  num_20  800000 non-null  float64\n",
      " 42  num_21  800000 non-null  float64\n",
      " 43  num_22  800000 non-null  float64\n",
      " 44  num_23  800000 non-null  float64\n",
      " 45  num_24  800000 non-null  float64\n",
      " 46  num_25  800000 non-null  float64\n",
      " 47  num_26  800000 non-null  float64\n",
      " 48  num_27  800000 non-null  float64\n",
      " 49  num_28  800000 non-null  float64\n",
      " 50  num_29  800000 non-null  float64\n",
      " 51  num_30  800000 non-null  float64\n",
      " 52  num_31  800000 non-null  float64\n",
      " 53  num_32  800000 non-null  float64\n",
      " 54  num_33  800000 non-null  float64\n",
      " 55  num_34  800000 non-null  float64\n",
      " 56  num_35  800000 non-null  float64\n",
      " 57  num_36  800000 non-null  float64\n",
      " 58  num_37  800000 non-null  float64\n",
      " 59  target  800000 non-null  float64\n",
      "dtypes: float64(38), int64(22)\n",
      "memory usage: 366.2 MB\n"
     ]
    }
   ],
   "source": [
    "#查看数据基本信息\n",
    "df.info()"
   ]
  },
  {
   "cell_type": "code",
   "execution_count": 5,
   "id": "9cd85736",
   "metadata": {},
   "outputs": [
    {
     "data": {
      "text/plain": [
       "0"
      ]
     },
     "execution_count": 5,
     "metadata": {},
     "output_type": "execute_result"
    }
   ],
   "source": [
    "#查看数据是否有重复值\n",
    "df.duplicated().sum()"
   ]
  },
  {
   "cell_type": "code",
   "execution_count": 6,
   "id": "c6d73a2e",
   "metadata": {},
   "outputs": [
    {
     "data": {
      "text/plain": [
       "True"
      ]
     },
     "execution_count": 6,
     "metadata": {},
     "output_type": "execute_result"
    }
   ],
   "source": [
    "#查看用户ID是否有重复值\n",
    "len(np.unique(df['id']))==df.shape[0]"
   ]
  },
  {
   "cell_type": "markdown",
   "id": "e5e40aa2",
   "metadata": {},
   "source": [
    "# 2 探索特征分布情况"
   ]
  },
  {
   "cell_type": "code",
   "execution_count": 7,
   "id": "279d93a3",
   "metadata": {},
   "outputs": [
    {
     "data": {
      "text/html": [
       "<div>\n",
       "<style scoped>\n",
       "    .dataframe tbody tr th:only-of-type {\n",
       "        vertical-align: middle;\n",
       "    }\n",
       "\n",
       "    .dataframe tbody tr th {\n",
       "        vertical-align: top;\n",
       "    }\n",
       "\n",
       "    .dataframe thead th {\n",
       "        text-align: right;\n",
       "    }\n",
       "</style>\n",
       "<table border=\"1\" class=\"dataframe\">\n",
       "  <thead>\n",
       "    <tr style=\"text-align: right;\">\n",
       "      <th></th>\n",
       "      <th>id</th>\n",
       "      <th>cat_0</th>\n",
       "      <th>cat_1</th>\n",
       "      <th>cat_2</th>\n",
       "      <th>cat_3</th>\n",
       "      <th>cat_4</th>\n",
       "      <th>cat_5</th>\n",
       "      <th>cat_6</th>\n",
       "      <th>cat_7</th>\n",
       "      <th>cat_8</th>\n",
       "      <th>...</th>\n",
       "      <th>num_29</th>\n",
       "      <th>num_30</th>\n",
       "      <th>num_31</th>\n",
       "      <th>num_32</th>\n",
       "      <th>num_33</th>\n",
       "      <th>num_34</th>\n",
       "      <th>num_35</th>\n",
       "      <th>num_36</th>\n",
       "      <th>num_37</th>\n",
       "      <th>target</th>\n",
       "    </tr>\n",
       "  </thead>\n",
       "  <tbody>\n",
       "    <tr>\n",
       "      <th>count</th>\n",
       "      <td>800000.000000</td>\n",
       "      <td>800000.000000</td>\n",
       "      <td>800000.000000</td>\n",
       "      <td>800000.000000</td>\n",
       "      <td>800000.000000</td>\n",
       "      <td>800000.000000</td>\n",
       "      <td>800000.000000</td>\n",
       "      <td>800000.000000</td>\n",
       "      <td>800000.000000</td>\n",
       "      <td>800000.000000</td>\n",
       "      <td>...</td>\n",
       "      <td>800000.000000</td>\n",
       "      <td>800000.000000</td>\n",
       "      <td>800000.000000</td>\n",
       "      <td>800000.000000</td>\n",
       "      <td>800000.000000</td>\n",
       "      <td>800000.000000</td>\n",
       "      <td>8.000000e+05</td>\n",
       "      <td>800000.000000</td>\n",
       "      <td>800000.000000</td>\n",
       "      <td>800000.000000</td>\n",
       "    </tr>\n",
       "    <tr>\n",
       "      <th>mean</th>\n",
       "      <td>399999.500000</td>\n",
       "      <td>11.326667</td>\n",
       "      <td>93.369439</td>\n",
       "      <td>7.133563</td>\n",
       "      <td>3.910350</td>\n",
       "      <td>3.719691</td>\n",
       "      <td>0.618034</td>\n",
       "      <td>4.059024</td>\n",
       "      <td>3.946736</td>\n",
       "      <td>3.948812</td>\n",
       "      <td>...</td>\n",
       "      <td>17.316756</td>\n",
       "      <td>13.783345</td>\n",
       "      <td>7.036945</td>\n",
       "      <td>4.225609</td>\n",
       "      <td>2.275005</td>\n",
       "      <td>0.151518</td>\n",
       "      <td>3.305656e+03</td>\n",
       "      <td>4451.633843</td>\n",
       "      <td>0.000495</td>\n",
       "      <td>0.013250</td>\n",
       "    </tr>\n",
       "    <tr>\n",
       "      <th>std</th>\n",
       "      <td>230940.252015</td>\n",
       "      <td>7.532890</td>\n",
       "      <td>84.283980</td>\n",
       "      <td>2.485475</td>\n",
       "      <td>0.424801</td>\n",
       "      <td>1.155052</td>\n",
       "      <td>0.485869</td>\n",
       "      <td>2.062829</td>\n",
       "      <td>0.403059</td>\n",
       "      <td>0.300025</td>\n",
       "      <td>...</td>\n",
       "      <td>11.062003</td>\n",
       "      <td>11.067024</td>\n",
       "      <td>8.457270</td>\n",
       "      <td>7.156476</td>\n",
       "      <td>5.156571</td>\n",
       "      <td>15.736397</td>\n",
       "      <td>9.300704e+04</td>\n",
       "      <td>8239.089604</td>\n",
       "      <td>0.000690</td>\n",
       "      <td>0.114344</td>\n",
       "    </tr>\n",
       "    <tr>\n",
       "      <th>min</th>\n",
       "      <td>0.000000</td>\n",
       "      <td>0.000000</td>\n",
       "      <td>0.000000</td>\n",
       "      <td>1.000000</td>\n",
       "      <td>1.000000</td>\n",
       "      <td>2.000000</td>\n",
       "      <td>0.000000</td>\n",
       "      <td>1.000000</td>\n",
       "      <td>0.000000</td>\n",
       "      <td>2.000000</td>\n",
       "      <td>...</td>\n",
       "      <td>0.000000</td>\n",
       "      <td>0.000000</td>\n",
       "      <td>0.000000</td>\n",
       "      <td>0.000000</td>\n",
       "      <td>0.000000</td>\n",
       "      <td>0.000000</td>\n",
       "      <td>0.000000e+00</td>\n",
       "      <td>0.000000</td>\n",
       "      <td>0.000000</td>\n",
       "      <td>0.000000</td>\n",
       "    </tr>\n",
       "    <tr>\n",
       "      <th>25%</th>\n",
       "      <td>199999.750000</td>\n",
       "      <td>5.000000</td>\n",
       "      <td>25.000000</td>\n",
       "      <td>7.000000</td>\n",
       "      <td>4.000000</td>\n",
       "      <td>3.000000</td>\n",
       "      <td>0.000000</td>\n",
       "      <td>3.000000</td>\n",
       "      <td>4.000000</td>\n",
       "      <td>4.000000</td>\n",
       "      <td>...</td>\n",
       "      <td>6.000000</td>\n",
       "      <td>2.504976</td>\n",
       "      <td>0.000000</td>\n",
       "      <td>0.000000</td>\n",
       "      <td>0.000000</td>\n",
       "      <td>0.000000</td>\n",
       "      <td>0.000000e+00</td>\n",
       "      <td>0.127790</td>\n",
       "      <td>0.000113</td>\n",
       "      <td>0.000000</td>\n",
       "    </tr>\n",
       "    <tr>\n",
       "      <th>50%</th>\n",
       "      <td>399999.500000</td>\n",
       "      <td>11.000000</td>\n",
       "      <td>66.000000</td>\n",
       "      <td>7.000000</td>\n",
       "      <td>4.000000</td>\n",
       "      <td>3.000000</td>\n",
       "      <td>1.000000</td>\n",
       "      <td>4.000000</td>\n",
       "      <td>4.000000</td>\n",
       "      <td>4.000000</td>\n",
       "      <td>...</td>\n",
       "      <td>20.000000</td>\n",
       "      <td>12.786394</td>\n",
       "      <td>3.000000</td>\n",
       "      <td>0.703686</td>\n",
       "      <td>0.000000</td>\n",
       "      <td>0.000000</td>\n",
       "      <td>1.144409e-04</td>\n",
       "      <td>698.475656</td>\n",
       "      <td>0.000246</td>\n",
       "      <td>0.000000</td>\n",
       "    </tr>\n",
       "    <tr>\n",
       "      <th>75%</th>\n",
       "      <td>599999.250000</td>\n",
       "      <td>17.000000</td>\n",
       "      <td>141.000000</td>\n",
       "      <td>9.000000</td>\n",
       "      <td>4.000000</td>\n",
       "      <td>5.000000</td>\n",
       "      <td>1.000000</td>\n",
       "      <td>5.000000</td>\n",
       "      <td>4.000000</td>\n",
       "      <td>4.000000</td>\n",
       "      <td>...</td>\n",
       "      <td>28.000000</td>\n",
       "      <td>25.000000</td>\n",
       "      <td>12.000000</td>\n",
       "      <td>5.000000</td>\n",
       "      <td>1.995969</td>\n",
       "      <td>0.000000</td>\n",
       "      <td>6.930312e-02</td>\n",
       "      <td>5456.293736</td>\n",
       "      <td>0.000542</td>\n",
       "      <td>0.000000</td>\n",
       "    </tr>\n",
       "    <tr>\n",
       "      <th>max</th>\n",
       "      <td>799999.000000</td>\n",
       "      <td>30.000000</td>\n",
       "      <td>357.000000</td>\n",
       "      <td>10.000000</td>\n",
       "      <td>5.000000</td>\n",
       "      <td>6.000000</td>\n",
       "      <td>1.000000</td>\n",
       "      <td>12.000000</td>\n",
       "      <td>5.000000</td>\n",
       "      <td>5.000000</td>\n",
       "      <td>...</td>\n",
       "      <td>30.000000</td>\n",
       "      <td>30.000000</td>\n",
       "      <td>30.000000</td>\n",
       "      <td>30.000000</td>\n",
       "      <td>30.000000</td>\n",
       "      <td>5232.081380</td>\n",
       "      <td>4.169229e+07</td>\n",
       "      <td>243447.173298</td>\n",
       "      <td>0.003287</td>\n",
       "      <td>1.000000</td>\n",
       "    </tr>\n",
       "  </tbody>\n",
       "</table>\n",
       "<p>8 rows × 60 columns</p>\n",
       "</div>"
      ],
      "text/plain": [
       "                  id          cat_0          cat_1          cat_2  \\\n",
       "count  800000.000000  800000.000000  800000.000000  800000.000000   \n",
       "mean   399999.500000      11.326667      93.369439       7.133563   \n",
       "std    230940.252015       7.532890      84.283980       2.485475   \n",
       "min         0.000000       0.000000       0.000000       1.000000   \n",
       "25%    199999.750000       5.000000      25.000000       7.000000   \n",
       "50%    399999.500000      11.000000      66.000000       7.000000   \n",
       "75%    599999.250000      17.000000     141.000000       9.000000   \n",
       "max    799999.000000      30.000000     357.000000      10.000000   \n",
       "\n",
       "               cat_3          cat_4          cat_5          cat_6  \\\n",
       "count  800000.000000  800000.000000  800000.000000  800000.000000   \n",
       "mean        3.910350       3.719691       0.618034       4.059024   \n",
       "std         0.424801       1.155052       0.485869       2.062829   \n",
       "min         1.000000       2.000000       0.000000       1.000000   \n",
       "25%         4.000000       3.000000       0.000000       3.000000   \n",
       "50%         4.000000       3.000000       1.000000       4.000000   \n",
       "75%         4.000000       5.000000       1.000000       5.000000   \n",
       "max         5.000000       6.000000       1.000000      12.000000   \n",
       "\n",
       "               cat_7          cat_8  ...         num_29         num_30  \\\n",
       "count  800000.000000  800000.000000  ...  800000.000000  800000.000000   \n",
       "mean        3.946736       3.948812  ...      17.316756      13.783345   \n",
       "std         0.403059       0.300025  ...      11.062003      11.067024   \n",
       "min         0.000000       2.000000  ...       0.000000       0.000000   \n",
       "25%         4.000000       4.000000  ...       6.000000       2.504976   \n",
       "50%         4.000000       4.000000  ...      20.000000      12.786394   \n",
       "75%         4.000000       4.000000  ...      28.000000      25.000000   \n",
       "max         5.000000       5.000000  ...      30.000000      30.000000   \n",
       "\n",
       "              num_31         num_32         num_33         num_34  \\\n",
       "count  800000.000000  800000.000000  800000.000000  800000.000000   \n",
       "mean        7.036945       4.225609       2.275005       0.151518   \n",
       "std         8.457270       7.156476       5.156571      15.736397   \n",
       "min         0.000000       0.000000       0.000000       0.000000   \n",
       "25%         0.000000       0.000000       0.000000       0.000000   \n",
       "50%         3.000000       0.703686       0.000000       0.000000   \n",
       "75%        12.000000       5.000000       1.995969       0.000000   \n",
       "max        30.000000      30.000000      30.000000    5232.081380   \n",
       "\n",
       "             num_35         num_36         num_37         target  \n",
       "count  8.000000e+05  800000.000000  800000.000000  800000.000000  \n",
       "mean   3.305656e+03    4451.633843       0.000495       0.013250  \n",
       "std    9.300704e+04    8239.089604       0.000690       0.114344  \n",
       "min    0.000000e+00       0.000000       0.000000       0.000000  \n",
       "25%    0.000000e+00       0.127790       0.000113       0.000000  \n",
       "50%    1.144409e-04     698.475656       0.000246       0.000000  \n",
       "75%    6.930312e-02    5456.293736       0.000542       0.000000  \n",
       "max    4.169229e+07  243447.173298       0.003287       1.000000  \n",
       "\n",
       "[8 rows x 60 columns]"
      ]
     },
     "execution_count": 7,
     "metadata": {},
     "output_type": "execute_result"
    }
   ],
   "source": [
    "df.describe()"
   ]
  },
  {
   "cell_type": "code",
   "execution_count": 8,
   "id": "5aa29b03",
   "metadata": {},
   "outputs": [
    {
     "data": {
      "text/plain": [
       "0.0    789400\n",
       "1.0     10600\n",
       "Name: target, dtype: int64"
      ]
     },
     "execution_count": 8,
     "metadata": {},
     "output_type": "execute_result"
    }
   ],
   "source": [
    "df['target'].value_counts()"
   ]
  },
  {
   "cell_type": "code",
   "execution_count": 9,
   "id": "904776a5",
   "metadata": {},
   "outputs": [
    {
     "data": {
      "text/plain": [
       "<Axes: ylabel='target'>"
      ]
     },
     "execution_count": 9,
     "metadata": {},
     "output_type": "execute_result"
    },
    {
     "data": {
      "image/png": "[encoded data removed]",
      "text/plain": [
       "<Figure size 640x480 with 1 Axes>"
      ]
     },
     "metadata": {},
     "output_type": "display_data"
    }
   ],
   "source": [
    "df['target'].value_counts().plot(kind='pie',autopct='%.3f%%')"
   ]
  },
  {
   "cell_type": "markdown",
   "id": "f5949460",
   "metadata": {},
   "source": [
    "# 3 数据预处理，初步建模，建立benchmark"
   ]
  },
  {
   "cell_type": "code",
   "execution_count": 10,
   "id": "768e0acd",
   "metadata": {},
   "outputs": [],
   "source": [
    "#提取特征矩阵和标签\n",
    "x=df.iloc[:,1:-1]\n",
    "y=df.iloc[:,-1]"
   ]
  },
  {
   "cell_type": "code",
   "execution_count": 11,
   "id": "e8eca856",
   "metadata": {},
   "outputs": [
    {
     "data": {
      "text/html": [
       "<div>\n",
       "<style scoped>\n",
       "    .dataframe tbody tr th:only-of-type {\n",
       "        vertical-align: middle;\n",
       "    }\n",
       "\n",
       "    .dataframe tbody tr th {\n",
       "        vertical-align: top;\n",
       "    }\n",
       "\n",
       "    .dataframe thead th {\n",
       "        text-align: right;\n",
       "    }\n",
       "</style>\n",
       "<table border=\"1\" class=\"dataframe\">\n",
       "  <thead>\n",
       "    <tr style=\"text-align: right;\">\n",
       "      <th></th>\n",
       "      <th>cat_0</th>\n",
       "      <th>cat_1</th>\n",
       "      <th>cat_2</th>\n",
       "      <th>cat_3</th>\n",
       "      <th>cat_4</th>\n",
       "      <th>cat_5</th>\n",
       "      <th>cat_6</th>\n",
       "      <th>cat_7</th>\n",
       "      <th>cat_8</th>\n",
       "      <th>cat_9</th>\n",
       "      <th>...</th>\n",
       "      <th>num_28</th>\n",
       "      <th>num_29</th>\n",
       "      <th>num_30</th>\n",
       "      <th>num_31</th>\n",
       "      <th>num_32</th>\n",
       "      <th>num_33</th>\n",
       "      <th>num_34</th>\n",
       "      <th>num_35</th>\n",
       "      <th>num_36</th>\n",
       "      <th>num_37</th>\n",
       "    </tr>\n",
       "  </thead>\n",
       "  <tbody>\n",
       "    <tr>\n",
       "      <th>0</th>\n",
       "      <td>2</td>\n",
       "      <td>103</td>\n",
       "      <td>9</td>\n",
       "      <td>4</td>\n",
       "      <td>3</td>\n",
       "      <td>1</td>\n",
       "      <td>3</td>\n",
       "      <td>4</td>\n",
       "      <td>4</td>\n",
       "      <td>4</td>\n",
       "      <td>...</td>\n",
       "      <td>0.0</td>\n",
       "      <td>2.000000</td>\n",
       "      <td>3.0</td>\n",
       "      <td>0.000000</td>\n",
       "      <td>0.0</td>\n",
       "      <td>0.0</td>\n",
       "      <td>0.0</td>\n",
       "      <td>0.0</td>\n",
       "      <td>0.089758</td>\n",
       "      <td>0.000129</td>\n",
       "    </tr>\n",
       "    <tr>\n",
       "      <th>1</th>\n",
       "      <td>0</td>\n",
       "      <td>177</td>\n",
       "      <td>6</td>\n",
       "      <td>2</td>\n",
       "      <td>2</td>\n",
       "      <td>1</td>\n",
       "      <td>2</td>\n",
       "      <td>4</td>\n",
       "      <td>4</td>\n",
       "      <td>4</td>\n",
       "      <td>...</td>\n",
       "      <td>0.0</td>\n",
       "      <td>0.968742</td>\n",
       "      <td>0.0</td>\n",
       "      <td>0.000000</td>\n",
       "      <td>0.0</td>\n",
       "      <td>0.0</td>\n",
       "      <td>0.0</td>\n",
       "      <td>0.0</td>\n",
       "      <td>0.000000</td>\n",
       "      <td>0.000312</td>\n",
       "    </tr>\n",
       "    <tr>\n",
       "      <th>2</th>\n",
       "      <td>7</td>\n",
       "      <td>70</td>\n",
       "      <td>7</td>\n",
       "      <td>4</td>\n",
       "      <td>5</td>\n",
       "      <td>0</td>\n",
       "      <td>3</td>\n",
       "      <td>4</td>\n",
       "      <td>4</td>\n",
       "      <td>4</td>\n",
       "      <td>...</td>\n",
       "      <td>0.0</td>\n",
       "      <td>0.000000</td>\n",
       "      <td>0.0</td>\n",
       "      <td>0.000000</td>\n",
       "      <td>0.0</td>\n",
       "      <td>0.0</td>\n",
       "      <td>0.0</td>\n",
       "      <td>0.0</td>\n",
       "      <td>0.000000</td>\n",
       "      <td>0.000164</td>\n",
       "    </tr>\n",
       "    <tr>\n",
       "      <th>3</th>\n",
       "      <td>11</td>\n",
       "      <td>166</td>\n",
       "      <td>7</td>\n",
       "      <td>2</td>\n",
       "      <td>3</td>\n",
       "      <td>1</td>\n",
       "      <td>1</td>\n",
       "      <td>1</td>\n",
       "      <td>2</td>\n",
       "      <td>4</td>\n",
       "      <td>...</td>\n",
       "      <td>0.0</td>\n",
       "      <td>0.021729</td>\n",
       "      <td>0.0</td>\n",
       "      <td>0.021729</td>\n",
       "      <td>0.0</td>\n",
       "      <td>0.0</td>\n",
       "      <td>0.0</td>\n",
       "      <td>0.0</td>\n",
       "      <td>0.000081</td>\n",
       "      <td>0.000205</td>\n",
       "    </tr>\n",
       "    <tr>\n",
       "      <th>4</th>\n",
       "      <td>0</td>\n",
       "      <td>178</td>\n",
       "      <td>10</td>\n",
       "      <td>4</td>\n",
       "      <td>3</td>\n",
       "      <td>0</td>\n",
       "      <td>4</td>\n",
       "      <td>4</td>\n",
       "      <td>4</td>\n",
       "      <td>4</td>\n",
       "      <td>...</td>\n",
       "      <td>0.0</td>\n",
       "      <td>30.000000</td>\n",
       "      <td>30.0</td>\n",
       "      <td>0.000000</td>\n",
       "      <td>0.0</td>\n",
       "      <td>0.0</td>\n",
       "      <td>0.0</td>\n",
       "      <td>0.0</td>\n",
       "      <td>6127.621124</td>\n",
       "      <td>0.000298</td>\n",
       "    </tr>\n",
       "  </tbody>\n",
       "</table>\n",
       "<p>5 rows × 58 columns</p>\n",
       "</div>"
      ],
      "text/plain": [
       "   cat_0  cat_1  cat_2  cat_3  cat_4  cat_5  cat_6  cat_7  cat_8  cat_9  ...  \\\n",
       "0      2    103      9      4      3      1      3      4      4      4  ...   \n",
       "1      0    177      6      2      2      1      2      4      4      4  ...   \n",
       "2      7     70      7      4      5      0      3      4      4      4  ...   \n",
       "3     11    166      7      2      3      1      1      1      2      4  ...   \n",
       "4      0    178     10      4      3      0      4      4      4      4  ...   \n",
       "\n",
       "   num_28     num_29  num_30    num_31  num_32  num_33  num_34  num_35  \\\n",
       "0     0.0   2.000000     3.0  0.000000     0.0     0.0     0.0     0.0   \n",
       "1     0.0   0.968742     0.0  0.000000     0.0     0.0     0.0     0.0   \n",
       "2     0.0   0.000000     0.0  0.000000     0.0     0.0     0.0     0.0   \n",
       "3     0.0   0.021729     0.0  0.021729     0.0     0.0     0.0     0.0   \n",
       "4     0.0  30.000000    30.0  0.000000     0.0     0.0     0.0     0.0   \n",
       "\n",
       "        num_36    num_37  \n",
       "0     0.089758  0.000129  \n",
       "1     0.000000  0.000312  \n",
       "2     0.000000  0.000164  \n",
       "3     0.000081  0.000205  \n",
       "4  6127.621124  0.000298  \n",
       "\n",
       "[5 rows x 58 columns]"
      ]
     },
     "execution_count": 11,
     "metadata": {},
     "output_type": "execute_result"
    }
   ],
   "source": [
    "x.head()"
   ]
  },
  {
   "cell_type": "code",
   "execution_count": 12,
   "id": "711e9334",
   "metadata": {},
   "outputs": [
    {
     "data": {
      "text/plain": [
       "(800000, 58)"
      ]
     },
     "execution_count": 12,
     "metadata": {},
     "output_type": "execute_result"
    }
   ],
   "source": [
    "x.shape"
   ]
  },
  {
   "cell_type": "code",
   "execution_count": 13,
   "id": "36c52f23",
   "metadata": {},
   "outputs": [
    {
     "data": {
      "text/plain": [
       "0         0.0\n",
       "1         0.0\n",
       "2         0.0\n",
       "3         0.0\n",
       "4         0.0\n",
       "         ... \n",
       "799995    0.0\n",
       "799996    0.0\n",
       "799997    0.0\n",
       "799998    0.0\n",
       "799999    0.0\n",
       "Name: target, Length: 800000, dtype: float64"
      ]
     },
     "execution_count": 13,
     "metadata": {},
     "output_type": "execute_result"
    }
   ],
   "source": [
    "y"
   ]
  },
  {
   "cell_type": "code",
   "execution_count": 14,
   "id": "ed1613b5",
   "metadata": {},
   "outputs": [],
   "source": [
    "#切分训练集和测试集,并且进行随机数打乱\n",
    "Xtrain,Xtest,Ytrain,Ytest=train_test_split(x,y,test_size=0.3,random_state=12)"
   ]
  },
  {
   "cell_type": "code",
   "execution_count": 15,
   "id": "d86960c6",
   "metadata": {},
   "outputs": [
    {
     "data": {
      "text/plain": [
       "(560000, 58)"
      ]
     },
     "execution_count": 15,
     "metadata": {},
     "output_type": "execute_result"
    }
   ],
   "source": [
    "Xtrain.shape"
   ]
  },
  {
   "cell_type": "code",
   "execution_count": 16,
   "id": "50fac1fa",
   "metadata": {},
   "outputs": [
    {
     "data": {
      "text/html": [
       "<div>\n",
       "<style scoped>\n",
       "    .dataframe tbody tr th:only-of-type {\n",
       "        vertical-align: middle;\n",
       "    }\n",
       "\n",
       "    .dataframe tbody tr th {\n",
       "        vertical-align: top;\n",
       "    }\n",
       "\n",
       "    .dataframe thead th {\n",
       "        text-align: right;\n",
       "    }\n",
       "</style>\n",
       "<table border=\"1\" class=\"dataframe\">\n",
       "  <thead>\n",
       "    <tr style=\"text-align: right;\">\n",
       "      <th></th>\n",
       "      <th>cat_0</th>\n",
       "      <th>cat_1</th>\n",
       "      <th>cat_2</th>\n",
       "      <th>cat_3</th>\n",
       "      <th>cat_4</th>\n",
       "      <th>cat_5</th>\n",
       "      <th>cat_6</th>\n",
       "      <th>cat_7</th>\n",
       "      <th>cat_8</th>\n",
       "      <th>cat_9</th>\n",
       "      <th>...</th>\n",
       "      <th>num_28</th>\n",
       "      <th>num_29</th>\n",
       "      <th>num_30</th>\n",
       "      <th>num_31</th>\n",
       "      <th>num_32</th>\n",
       "      <th>num_33</th>\n",
       "      <th>num_34</th>\n",
       "      <th>num_35</th>\n",
       "      <th>num_36</th>\n",
       "      <th>num_37</th>\n",
       "    </tr>\n",
       "  </thead>\n",
       "  <tbody>\n",
       "    <tr>\n",
       "      <th>419910</th>\n",
       "      <td>18</td>\n",
       "      <td>31</td>\n",
       "      <td>1</td>\n",
       "      <td>4</td>\n",
       "      <td>4</td>\n",
       "      <td>1</td>\n",
       "      <td>4</td>\n",
       "      <td>4</td>\n",
       "      <td>4</td>\n",
       "      <td>4</td>\n",
       "      <td>...</td>\n",
       "      <td>0.0</td>\n",
       "      <td>5.000000</td>\n",
       "      <td>1.000000</td>\n",
       "      <td>2.000000</td>\n",
       "      <td>0.000000</td>\n",
       "      <td>16.000000</td>\n",
       "      <td>0.0</td>\n",
       "      <td>0.001342</td>\n",
       "      <td>0.000000</td>\n",
       "      <td>0.000118</td>\n",
       "    </tr>\n",
       "    <tr>\n",
       "      <th>386718</th>\n",
       "      <td>2</td>\n",
       "      <td>98</td>\n",
       "      <td>10</td>\n",
       "      <td>4</td>\n",
       "      <td>4</td>\n",
       "      <td>1</td>\n",
       "      <td>4</td>\n",
       "      <td>4</td>\n",
       "      <td>4</td>\n",
       "      <td>3</td>\n",
       "      <td>...</td>\n",
       "      <td>0.0</td>\n",
       "      <td>25.000000</td>\n",
       "      <td>13.000000</td>\n",
       "      <td>16.000000</td>\n",
       "      <td>0.000000</td>\n",
       "      <td>0.000000</td>\n",
       "      <td>0.0</td>\n",
       "      <td>55929.266124</td>\n",
       "      <td>2432.229827</td>\n",
       "      <td>0.000072</td>\n",
       "    </tr>\n",
       "    <tr>\n",
       "      <th>365953</th>\n",
       "      <td>25</td>\n",
       "      <td>89</td>\n",
       "      <td>1</td>\n",
       "      <td>4</td>\n",
       "      <td>3</td>\n",
       "      <td>1</td>\n",
       "      <td>4</td>\n",
       "      <td>4</td>\n",
       "      <td>4</td>\n",
       "      <td>4</td>\n",
       "      <td>...</td>\n",
       "      <td>0.0</td>\n",
       "      <td>18.000000</td>\n",
       "      <td>30.000000</td>\n",
       "      <td>2.000000</td>\n",
       "      <td>3.000000</td>\n",
       "      <td>1.000000</td>\n",
       "      <td>0.0</td>\n",
       "      <td>0.000000</td>\n",
       "      <td>112.633561</td>\n",
       "      <td>0.000113</td>\n",
       "    </tr>\n",
       "    <tr>\n",
       "      <th>155044</th>\n",
       "      <td>12</td>\n",
       "      <td>21</td>\n",
       "      <td>9</td>\n",
       "      <td>4</td>\n",
       "      <td>3</td>\n",
       "      <td>1</td>\n",
       "      <td>3</td>\n",
       "      <td>4</td>\n",
       "      <td>4</td>\n",
       "      <td>4</td>\n",
       "      <td>...</td>\n",
       "      <td>0.0</td>\n",
       "      <td>26.400914</td>\n",
       "      <td>29.480183</td>\n",
       "      <td>7.762195</td>\n",
       "      <td>6.000000</td>\n",
       "      <td>1.440549</td>\n",
       "      <td>0.0</td>\n",
       "      <td>582.695686</td>\n",
       "      <td>6475.638370</td>\n",
       "      <td>0.000228</td>\n",
       "    </tr>\n",
       "    <tr>\n",
       "      <th>630096</th>\n",
       "      <td>12</td>\n",
       "      <td>69</td>\n",
       "      <td>7</td>\n",
       "      <td>4</td>\n",
       "      <td>3</td>\n",
       "      <td>1</td>\n",
       "      <td>3</td>\n",
       "      <td>4</td>\n",
       "      <td>4</td>\n",
       "      <td>4</td>\n",
       "      <td>...</td>\n",
       "      <td>0.0</td>\n",
       "      <td>22.278410</td>\n",
       "      <td>10.426137</td>\n",
       "      <td>14.863636</td>\n",
       "      <td>0.710228</td>\n",
       "      <td>0.857954</td>\n",
       "      <td>0.0</td>\n",
       "      <td>0.558017</td>\n",
       "      <td>4602.687136</td>\n",
       "      <td>0.000352</td>\n",
       "    </tr>\n",
       "    <tr>\n",
       "      <th>...</th>\n",
       "      <td>...</td>\n",
       "      <td>...</td>\n",
       "      <td>...</td>\n",
       "      <td>...</td>\n",
       "      <td>...</td>\n",
       "      <td>...</td>\n",
       "      <td>...</td>\n",
       "      <td>...</td>\n",
       "      <td>...</td>\n",
       "      <td>...</td>\n",
       "      <td>...</td>\n",
       "      <td>...</td>\n",
       "      <td>...</td>\n",
       "      <td>...</td>\n",
       "      <td>...</td>\n",
       "      <td>...</td>\n",
       "      <td>...</td>\n",
       "      <td>...</td>\n",
       "      <td>...</td>\n",
       "      <td>...</td>\n",
       "      <td>...</td>\n",
       "    </tr>\n",
       "    <tr>\n",
       "      <th>564465</th>\n",
       "      <td>10</td>\n",
       "      <td>11</td>\n",
       "      <td>9</td>\n",
       "      <td>4</td>\n",
       "      <td>3</td>\n",
       "      <td>1</td>\n",
       "      <td>2</td>\n",
       "      <td>4</td>\n",
       "      <td>4</td>\n",
       "      <td>4</td>\n",
       "      <td>...</td>\n",
       "      <td>0.0</td>\n",
       "      <td>30.000000</td>\n",
       "      <td>25.000000</td>\n",
       "      <td>1.000000</td>\n",
       "      <td>21.000000</td>\n",
       "      <td>14.000000</td>\n",
       "      <td>0.0</td>\n",
       "      <td>0.022586</td>\n",
       "      <td>2337.837385</td>\n",
       "      <td>0.000283</td>\n",
       "    </tr>\n",
       "    <tr>\n",
       "      <th>412925</th>\n",
       "      <td>28</td>\n",
       "      <td>205</td>\n",
       "      <td>7</td>\n",
       "      <td>3</td>\n",
       "      <td>5</td>\n",
       "      <td>0</td>\n",
       "      <td>4</td>\n",
       "      <td>4</td>\n",
       "      <td>4</td>\n",
       "      <td>4</td>\n",
       "      <td>...</td>\n",
       "      <td>0.0</td>\n",
       "      <td>2.050762</td>\n",
       "      <td>1.997970</td>\n",
       "      <td>0.000000</td>\n",
       "      <td>0.014213</td>\n",
       "      <td>0.000000</td>\n",
       "      <td>0.0</td>\n",
       "      <td>0.000000</td>\n",
       "      <td>232.574598</td>\n",
       "      <td>0.000528</td>\n",
       "    </tr>\n",
       "    <tr>\n",
       "      <th>255366</th>\n",
       "      <td>17</td>\n",
       "      <td>123</td>\n",
       "      <td>1</td>\n",
       "      <td>4</td>\n",
       "      <td>2</td>\n",
       "      <td>0</td>\n",
       "      <td>2</td>\n",
       "      <td>4</td>\n",
       "      <td>4</td>\n",
       "      <td>2</td>\n",
       "      <td>...</td>\n",
       "      <td>0.0</td>\n",
       "      <td>12.000000</td>\n",
       "      <td>1.000000</td>\n",
       "      <td>1.000000</td>\n",
       "      <td>0.000000</td>\n",
       "      <td>1.000000</td>\n",
       "      <td>0.0</td>\n",
       "      <td>0.000000</td>\n",
       "      <td>164.968904</td>\n",
       "      <td>0.000055</td>\n",
       "    </tr>\n",
       "    <tr>\n",
       "      <th>759451</th>\n",
       "      <td>7</td>\n",
       "      <td>300</td>\n",
       "      <td>10</td>\n",
       "      <td>4</td>\n",
       "      <td>6</td>\n",
       "      <td>1</td>\n",
       "      <td>4</td>\n",
       "      <td>4</td>\n",
       "      <td>4</td>\n",
       "      <td>4</td>\n",
       "      <td>...</td>\n",
       "      <td>0.0</td>\n",
       "      <td>13.000000</td>\n",
       "      <td>18.000000</td>\n",
       "      <td>0.000000</td>\n",
       "      <td>0.000000</td>\n",
       "      <td>0.000000</td>\n",
       "      <td>0.0</td>\n",
       "      <td>0.000298</td>\n",
       "      <td>0.119201</td>\n",
       "      <td>0.000048</td>\n",
       "    </tr>\n",
       "    <tr>\n",
       "      <th>472907</th>\n",
       "      <td>20</td>\n",
       "      <td>43</td>\n",
       "      <td>7</td>\n",
       "      <td>4</td>\n",
       "      <td>2</td>\n",
       "      <td>0</td>\n",
       "      <td>5</td>\n",
       "      <td>4</td>\n",
       "      <td>4</td>\n",
       "      <td>4</td>\n",
       "      <td>...</td>\n",
       "      <td>0.0</td>\n",
       "      <td>2.178120</td>\n",
       "      <td>6.603084</td>\n",
       "      <td>19.931277</td>\n",
       "      <td>4.178120</td>\n",
       "      <td>0.000000</td>\n",
       "      <td>0.0</td>\n",
       "      <td>0.000000</td>\n",
       "      <td>0.001192</td>\n",
       "      <td>0.001015</td>\n",
       "    </tr>\n",
       "  </tbody>\n",
       "</table>\n",
       "<p>560000 rows × 58 columns</p>\n",
       "</div>"
      ],
      "text/plain": [
       "        cat_0  cat_1  cat_2  cat_3  cat_4  cat_5  cat_6  cat_7  cat_8  cat_9  \\\n",
       "419910     18     31      1      4      4      1      4      4      4      4   \n",
       "386718      2     98     10      4      4      1      4      4      4      3   \n",
       "365953     25     89      1      4      3      1      4      4      4      4   \n",
       "155044     12     21      9      4      3      1      3      4      4      4   \n",
       "630096     12     69      7      4      3      1      3      4      4      4   \n",
       "...       ...    ...    ...    ...    ...    ...    ...    ...    ...    ...   \n",
       "564465     10     11      9      4      3      1      2      4      4      4   \n",
       "412925     28    205      7      3      5      0      4      4      4      4   \n",
       "255366     17    123      1      4      2      0      2      4      4      2   \n",
       "759451      7    300     10      4      6      1      4      4      4      4   \n",
       "472907     20     43      7      4      2      0      5      4      4      4   \n",
       "\n",
       "        ...  num_28     num_29     num_30     num_31     num_32     num_33  \\\n",
       "419910  ...     0.0   5.000000   1.000000   2.000000   0.000000  16.000000   \n",
       "386718  ...     0.0  25.000000  13.000000  16.000000   0.000000   0.000000   \n",
       "365953  ...     0.0  18.000000  30.000000   2.000000   3.000000   1.000000   \n",
       "155044  ...     0.0  26.400914  29.480183   7.762195   6.000000   1.440549   \n",
       "630096  ...     0.0  22.278410  10.426137  14.863636   0.710228   0.857954   \n",
       "...     ...     ...        ...        ...        ...        ...        ...   \n",
       "564465  ...     0.0  30.000000  25.000000   1.000000  21.000000  14.000000   \n",
       "412925  ...     0.0   2.050762   1.997970   0.000000   0.014213   0.000000   \n",
       "255366  ...     0.0  12.000000   1.000000   1.000000   0.000000   1.000000   \n",
       "759451  ...     0.0  13.000000  18.000000   0.000000   0.000000   0.000000   \n",
       "472907  ...     0.0   2.178120   6.603084  19.931277   4.178120   0.000000   \n",
       "\n",
       "        num_34        num_35       num_36    num_37  \n",
       "419910     0.0      0.001342     0.000000  0.000118  \n",
       "386718     0.0  55929.266124  2432.229827  0.000072  \n",
       "365953     0.0      0.000000   112.633561  0.000113  \n",
       "155044     0.0    582.695686  6475.638370  0.000228  \n",
       "630096     0.0      0.558017  4602.687136  0.000352  \n",
       "...        ...           ...          ...       ...  \n",
       "564465     0.0      0.022586  2337.837385  0.000283  \n",
       "412925     0.0      0.000000   232.574598  0.000528  \n",
       "255366     0.0      0.000000   164.968904  0.000055  \n",
       "759451     0.0      0.000298     0.119201  0.000048  \n",
       "472907     0.0      0.000000     0.001192  0.001015  \n",
       "\n",
       "[560000 rows x 58 columns]"
      ]
     },
     "execution_count": 16,
     "metadata": {},
     "output_type": "execute_result"
    }
   ],
   "source": [
    "Xtrain"
   ]
  },
  {
   "cell_type": "code",
   "execution_count": 17,
   "id": "b32da636",
   "metadata": {},
   "outputs": [],
   "source": [
    "#重置训练集和测试集的索引\n",
    "for i in [Xtrain,Xtest,Ytrain,Ytest]:\n",
    "    i.reset_index(drop=True,inplace=True)"
   ]
  },
  {
   "cell_type": "code",
   "execution_count": 18,
   "id": "4fcf7060",
   "metadata": {},
   "outputs": [
    {
     "data": {
      "text/html": [
       "<div>\n",
       "<style scoped>\n",
       "    .dataframe tbody tr th:only-of-type {\n",
       "        vertical-align: middle;\n",
       "    }\n",
       "\n",
       "    .dataframe tbody tr th {\n",
       "        vertical-align: top;\n",
       "    }\n",
       "\n",
       "    .dataframe thead th {\n",
       "        text-align: right;\n",
       "    }\n",
       "</style>\n",
       "<table border=\"1\" class=\"dataframe\">\n",
       "  <thead>\n",
       "    <tr style=\"text-align: right;\">\n",
       "      <th></th>\n",
       "      <th>cat_0</th>\n",
       "      <th>cat_1</th>\n",
       "      <th>cat_2</th>\n",
       "      <th>cat_3</th>\n",
       "      <th>cat_4</th>\n",
       "      <th>cat_5</th>\n",
       "      <th>cat_6</th>\n",
       "      <th>cat_7</th>\n",
       "      <th>cat_8</th>\n",
       "      <th>cat_9</th>\n",
       "      <th>...</th>\n",
       "      <th>num_28</th>\n",
       "      <th>num_29</th>\n",
       "      <th>num_30</th>\n",
       "      <th>num_31</th>\n",
       "      <th>num_32</th>\n",
       "      <th>num_33</th>\n",
       "      <th>num_34</th>\n",
       "      <th>num_35</th>\n",
       "      <th>num_36</th>\n",
       "      <th>num_37</th>\n",
       "    </tr>\n",
       "  </thead>\n",
       "  <tbody>\n",
       "    <tr>\n",
       "      <th>0</th>\n",
       "      <td>18</td>\n",
       "      <td>31</td>\n",
       "      <td>1</td>\n",
       "      <td>4</td>\n",
       "      <td>4</td>\n",
       "      <td>1</td>\n",
       "      <td>4</td>\n",
       "      <td>4</td>\n",
       "      <td>4</td>\n",
       "      <td>4</td>\n",
       "      <td>...</td>\n",
       "      <td>0.0</td>\n",
       "      <td>5.000000</td>\n",
       "      <td>1.000000</td>\n",
       "      <td>2.000000</td>\n",
       "      <td>0.000000</td>\n",
       "      <td>16.000000</td>\n",
       "      <td>0.0</td>\n",
       "      <td>0.001342</td>\n",
       "      <td>0.000000</td>\n",
       "      <td>0.000118</td>\n",
       "    </tr>\n",
       "    <tr>\n",
       "      <th>1</th>\n",
       "      <td>2</td>\n",
       "      <td>98</td>\n",
       "      <td>10</td>\n",
       "      <td>4</td>\n",
       "      <td>4</td>\n",
       "      <td>1</td>\n",
       "      <td>4</td>\n",
       "      <td>4</td>\n",
       "      <td>4</td>\n",
       "      <td>3</td>\n",
       "      <td>...</td>\n",
       "      <td>0.0</td>\n",
       "      <td>25.000000</td>\n",
       "      <td>13.000000</td>\n",
       "      <td>16.000000</td>\n",
       "      <td>0.000000</td>\n",
       "      <td>0.000000</td>\n",
       "      <td>0.0</td>\n",
       "      <td>55929.266124</td>\n",
       "      <td>2432.229827</td>\n",
       "      <td>0.000072</td>\n",
       "    </tr>\n",
       "    <tr>\n",
       "      <th>2</th>\n",
       "      <td>25</td>\n",
       "      <td>89</td>\n",
       "      <td>1</td>\n",
       "      <td>4</td>\n",
       "      <td>3</td>\n",
       "      <td>1</td>\n",
       "      <td>4</td>\n",
       "      <td>4</td>\n",
       "      <td>4</td>\n",
       "      <td>4</td>\n",
       "      <td>...</td>\n",
       "      <td>0.0</td>\n",
       "      <td>18.000000</td>\n",
       "      <td>30.000000</td>\n",
       "      <td>2.000000</td>\n",
       "      <td>3.000000</td>\n",
       "      <td>1.000000</td>\n",
       "      <td>0.0</td>\n",
       "      <td>0.000000</td>\n",
       "      <td>112.633561</td>\n",
       "      <td>0.000113</td>\n",
       "    </tr>\n",
       "    <tr>\n",
       "      <th>3</th>\n",
       "      <td>12</td>\n",
       "      <td>21</td>\n",
       "      <td>9</td>\n",
       "      <td>4</td>\n",
       "      <td>3</td>\n",
       "      <td>1</td>\n",
       "      <td>3</td>\n",
       "      <td>4</td>\n",
       "      <td>4</td>\n",
       "      <td>4</td>\n",
       "      <td>...</td>\n",
       "      <td>0.0</td>\n",
       "      <td>26.400914</td>\n",
       "      <td>29.480183</td>\n",
       "      <td>7.762195</td>\n",
       "      <td>6.000000</td>\n",
       "      <td>1.440549</td>\n",
       "      <td>0.0</td>\n",
       "      <td>582.695686</td>\n",
       "      <td>6475.638370</td>\n",
       "      <td>0.000228</td>\n",
       "    </tr>\n",
       "    <tr>\n",
       "      <th>4</th>\n",
       "      <td>12</td>\n",
       "      <td>69</td>\n",
       "      <td>7</td>\n",
       "      <td>4</td>\n",
       "      <td>3</td>\n",
       "      <td>1</td>\n",
       "      <td>3</td>\n",
       "      <td>4</td>\n",
       "      <td>4</td>\n",
       "      <td>4</td>\n",
       "      <td>...</td>\n",
       "      <td>0.0</td>\n",
       "      <td>22.278410</td>\n",
       "      <td>10.426137</td>\n",
       "      <td>14.863636</td>\n",
       "      <td>0.710228</td>\n",
       "      <td>0.857954</td>\n",
       "      <td>0.0</td>\n",
       "      <td>0.558017</td>\n",
       "      <td>4602.687136</td>\n",
       "      <td>0.000352</td>\n",
       "    </tr>\n",
       "    <tr>\n",
       "      <th>...</th>\n",
       "      <td>...</td>\n",
       "      <td>...</td>\n",
       "      <td>...</td>\n",
       "      <td>...</td>\n",
       "      <td>...</td>\n",
       "      <td>...</td>\n",
       "      <td>...</td>\n",
       "      <td>...</td>\n",
       "      <td>...</td>\n",
       "      <td>...</td>\n",
       "      <td>...</td>\n",
       "      <td>...</td>\n",
       "      <td>...</td>\n",
       "      <td>...</td>\n",
       "      <td>...</td>\n",
       "      <td>...</td>\n",
       "      <td>...</td>\n",
       "      <td>...</td>\n",
       "      <td>...</td>\n",
       "      <td>...</td>\n",
       "      <td>...</td>\n",
       "    </tr>\n",
       "    <tr>\n",
       "      <th>559995</th>\n",
       "      <td>10</td>\n",
       "      <td>11</td>\n",
       "      <td>9</td>\n",
       "      <td>4</td>\n",
       "      <td>3</td>\n",
       "      <td>1</td>\n",
       "      <td>2</td>\n",
       "      <td>4</td>\n",
       "      <td>4</td>\n",
       "      <td>4</td>\n",
       "      <td>...</td>\n",
       "      <td>0.0</td>\n",
       "      <td>30.000000</td>\n",
       "      <td>25.000000</td>\n",
       "      <td>1.000000</td>\n",
       "      <td>21.000000</td>\n",
       "      <td>14.000000</td>\n",
       "      <td>0.0</td>\n",
       "      <td>0.022586</td>\n",
       "      <td>2337.837385</td>\n",
       "      <td>0.000283</td>\n",
       "    </tr>\n",
       "    <tr>\n",
       "      <th>559996</th>\n",
       "      <td>28</td>\n",
       "      <td>205</td>\n",
       "      <td>7</td>\n",
       "      <td>3</td>\n",
       "      <td>5</td>\n",
       "      <td>0</td>\n",
       "      <td>4</td>\n",
       "      <td>4</td>\n",
       "      <td>4</td>\n",
       "      <td>4</td>\n",
       "      <td>...</td>\n",
       "      <td>0.0</td>\n",
       "      <td>2.050762</td>\n",
       "      <td>1.997970</td>\n",
       "      <td>0.000000</td>\n",
       "      <td>0.014213</td>\n",
       "      <td>0.000000</td>\n",
       "      <td>0.0</td>\n",
       "      <td>0.000000</td>\n",
       "      <td>232.574598</td>\n",
       "      <td>0.000528</td>\n",
       "    </tr>\n",
       "    <tr>\n",
       "      <th>559997</th>\n",
       "      <td>17</td>\n",
       "      <td>123</td>\n",
       "      <td>1</td>\n",
       "      <td>4</td>\n",
       "      <td>2</td>\n",
       "      <td>0</td>\n",
       "      <td>2</td>\n",
       "      <td>4</td>\n",
       "      <td>4</td>\n",
       "      <td>2</td>\n",
       "      <td>...</td>\n",
       "      <td>0.0</td>\n",
       "      <td>12.000000</td>\n",
       "      <td>1.000000</td>\n",
       "      <td>1.000000</td>\n",
       "      <td>0.000000</td>\n",
       "      <td>1.000000</td>\n",
       "      <td>0.0</td>\n",
       "      <td>0.000000</td>\n",
       "      <td>164.968904</td>\n",
       "      <td>0.000055</td>\n",
       "    </tr>\n",
       "    <tr>\n",
       "      <th>559998</th>\n",
       "      <td>7</td>\n",
       "      <td>300</td>\n",
       "      <td>10</td>\n",
       "      <td>4</td>\n",
       "      <td>6</td>\n",
       "      <td>1</td>\n",
       "      <td>4</td>\n",
       "      <td>4</td>\n",
       "      <td>4</td>\n",
       "      <td>4</td>\n",
       "      <td>...</td>\n",
       "      <td>0.0</td>\n",
       "      <td>13.000000</td>\n",
       "      <td>18.000000</td>\n",
       "      <td>0.000000</td>\n",
       "      <td>0.000000</td>\n",
       "      <td>0.000000</td>\n",
       "      <td>0.0</td>\n",
       "      <td>0.000298</td>\n",
       "      <td>0.119201</td>\n",
       "      <td>0.000048</td>\n",
       "    </tr>\n",
       "    <tr>\n",
       "      <th>559999</th>\n",
       "      <td>20</td>\n",
       "      <td>43</td>\n",
       "      <td>7</td>\n",
       "      <td>4</td>\n",
       "      <td>2</td>\n",
       "      <td>0</td>\n",
       "      <td>5</td>\n",
       "      <td>4</td>\n",
       "      <td>4</td>\n",
       "      <td>4</td>\n",
       "      <td>...</td>\n",
       "      <td>0.0</td>\n",
       "      <td>2.178120</td>\n",
       "      <td>6.603084</td>\n",
       "      <td>19.931277</td>\n",
       "      <td>4.178120</td>\n",
       "      <td>0.000000</td>\n",
       "      <td>0.0</td>\n",
       "      <td>0.000000</td>\n",
       "      <td>0.001192</td>\n",
       "      <td>0.001015</td>\n",
       "    </tr>\n",
       "  </tbody>\n",
       "</table>\n",
       "<p>560000 rows × 58 columns</p>\n",
       "</div>"
      ],
      "text/plain": [
       "        cat_0  cat_1  cat_2  cat_3  cat_4  cat_5  cat_6  cat_7  cat_8  cat_9  \\\n",
       "0          18     31      1      4      4      1      4      4      4      4   \n",
       "1           2     98     10      4      4      1      4      4      4      3   \n",
       "2          25     89      1      4      3      1      4      4      4      4   \n",
       "3          12     21      9      4      3      1      3      4      4      4   \n",
       "4          12     69      7      4      3      1      3      4      4      4   \n",
       "...       ...    ...    ...    ...    ...    ...    ...    ...    ...    ...   \n",
       "559995     10     11      9      4      3      1      2      4      4      4   \n",
       "559996     28    205      7      3      5      0      4      4      4      4   \n",
       "559997     17    123      1      4      2      0      2      4      4      2   \n",
       "559998      7    300     10      4      6      1      4      4      4      4   \n",
       "559999     20     43      7      4      2      0      5      4      4      4   \n",
       "\n",
       "        ...  num_28     num_29     num_30     num_31     num_32     num_33  \\\n",
       "0       ...     0.0   5.000000   1.000000   2.000000   0.000000  16.000000   \n",
       "1       ...     0.0  25.000000  13.000000  16.000000   0.000000   0.000000   \n",
       "2       ...     0.0  18.000000  30.000000   2.000000   3.000000   1.000000   \n",
       "3       ...     0.0  26.400914  29.480183   7.762195   6.000000   1.440549   \n",
       "4       ...     0.0  22.278410  10.426137  14.863636   0.710228   0.857954   \n",
       "...     ...     ...        ...        ...        ...        ...        ...   \n",
       "559995  ...     0.0  30.000000  25.000000   1.000000  21.000000  14.000000   \n",
       "559996  ...     0.0   2.050762   1.997970   0.000000   0.014213   0.000000   \n",
       "559997  ...     0.0  12.000000   1.000000   1.000000   0.000000   1.000000   \n",
       "559998  ...     0.0  13.000000  18.000000   0.000000   0.000000   0.000000   \n",
       "559999  ...     0.0   2.178120   6.603084  19.931277   4.178120   0.000000   \n",
       "\n",
       "        num_34        num_35       num_36    num_37  \n",
       "0          0.0      0.001342     0.000000  0.000118  \n",
       "1          0.0  55929.266124  2432.229827  0.000072  \n",
       "2          0.0      0.000000   112.633561  0.000113  \n",
       "3          0.0    582.695686  6475.638370  0.000228  \n",
       "4          0.0      0.558017  4602.687136  0.000352  \n",
       "...        ...           ...          ...       ...  \n",
       "559995     0.0      0.022586  2337.837385  0.000283  \n",
       "559996     0.0      0.000000   232.574598  0.000528  \n",
       "559997     0.0      0.000000   164.968904  0.000055  \n",
       "559998     0.0      0.000298     0.119201  0.000048  \n",
       "559999     0.0      0.000000     0.001192  0.001015  \n",
       "\n",
       "[560000 rows x 58 columns]"
      ]
     },
     "execution_count": 18,
     "metadata": {},
     "output_type": "execute_result"
    }
   ],
   "source": [
    "Xtrain"
   ]
  },
  {
   "cell_type": "code",
   "execution_count": 19,
   "id": "8fa3ae3e",
   "metadata": {},
   "outputs": [],
   "source": [
    "clf=LR(max_iter=5000)\n",
    "clf=clf.fit(Xtrain,Ytrain)"
   ]
  },
  {
   "cell_type": "code",
   "execution_count": 20,
   "id": "eb3a7eaa",
   "metadata": {},
   "outputs": [
    {
     "name": "stdout",
     "output_type": "stream",
     "text": [
      "训练集上的预测准确率为： 0.9866553571428571\n",
      "测试集上的预测准确率为： 0.9865625\n"
     ]
    }
   ],
   "source": [
    "print('训练集上的预测准确率为：',clf.score(Xtrain,Ytrain))\n",
    "print('测试集上的预测准确率为：',clf.score(Xtest,Ytest))"
   ]
  },
  {
   "cell_type": "code",
   "execution_count": 21,
   "id": "b07172d0",
   "metadata": {},
   "outputs": [
    {
     "data": {
      "text/plain": [
       "array([[552523,     66],\n",
       "       [  7407,      4]], dtype=int64)"
      ]
     },
     "execution_count": 21,
     "metadata": {},
     "output_type": "execute_result"
    }
   ],
   "source": [
    "confusion_matrix(Ytrain,clf.predict(Xtrain))"
   ]
  },
  {
   "cell_type": "code",
   "execution_count": 22,
   "id": "0240b5b6",
   "metadata": {},
   "outputs": [
    {
     "data": {
      "text/plain": [
       "array([[236775,     36],\n",
       "       [  3189,      0]], dtype=int64)"
      ]
     },
     "execution_count": 22,
     "metadata": {},
     "output_type": "execute_result"
    }
   ],
   "source": [
    "confusion_matrix(Ytest,clf.predict(Xtest))"
   ]
  },
  {
   "cell_type": "code",
   "execution_count": 23,
   "id": "7bb895fb",
   "metadata": {},
   "outputs": [
    {
     "data": {
      "text/plain": [
       "0.7830978273382643"
      ]
     },
     "execution_count": 23,
     "metadata": {},
     "output_type": "execute_result"
    }
   ],
   "source": [
    "#查看训练集上auc面积\n",
    "area=roc_auc_score(Ytrain,clf.predict_proba(Xtrain)[:,1])\n",
    "area"
   ]
  },
  {
   "cell_type": "code",
   "execution_count": 24,
   "id": "c7a39840",
   "metadata": {},
   "outputs": [
    {
     "data": {
      "text/plain": [
       "0.7905061209083704"
      ]
     },
     "execution_count": 24,
     "metadata": {},
     "output_type": "execute_result"
    }
   ],
   "source": [
    "#查看测试集上auc面积\n",
    "area=roc_auc_score(Ytest,clf.predict_proba(Xtest)[:,1])\n",
    "area"
   ]
  },
  {
   "cell_type": "code",
   "execution_count": 25,
   "id": "4d6d36fb",
   "metadata": {},
   "outputs": [
    {
     "name": "stdout",
     "output_type": "stream",
     "text": [
      "              precision    recall  f1-score   support\n",
      "\n",
      "         0.0       0.99      1.00      0.99    552589\n",
      "         1.0       0.06      0.00      0.00      7411\n",
      "\n",
      "    accuracy                           0.99    560000\n",
      "   macro avg       0.52      0.50      0.50    560000\n",
      "weighted avg       0.97      0.99      0.98    560000\n",
      "\n"
     ]
    }
   ],
   "source": [
    "print(classification_report(Ytrain,clf.predict(Xtrain)))\n",
    "#可以看出少数类完全没有预测到，是由于非5G用户过多导致\n",
    "#由此可以看出此时的模型是完全无效的"
   ]
  },
  {
   "cell_type": "markdown",
   "id": "ef9d7384",
   "metadata": {},
   "source": [
    "# 4模型调优"
   ]
  },
  {
   "cell_type": "code",
   "execution_count": 21,
   "id": "c8d1c447",
   "metadata": {},
   "outputs": [],
   "source": [
    "from sklearn.preprocessing import MinMaxScaler\n",
    "from sklearn.model_selection import cross_val_score"
   ]
  },
  {
   "cell_type": "code",
   "execution_count": 27,
   "id": "1db7ba65",
   "metadata": {},
   "outputs": [
    {
     "name": "stdout",
     "output_type": "stream",
     "text": [
      "<class 'pandas.core.frame.DataFrame'>\n",
      "RangeIndex: 560000 entries, 0 to 559999\n",
      "Data columns (total 58 columns):\n",
      " #   Column  Non-Null Count   Dtype  \n",
      "---  ------  --------------   -----  \n",
      " 0   cat_0   560000 non-null  int64  \n",
      " 1   cat_1   560000 non-null  int64  \n",
      " 2   cat_2   560000 non-null  int64  \n",
      " 3   cat_3   560000 non-null  int64  \n",
      " 4   cat_4   560000 non-null  int64  \n",
      " 5   cat_5   560000 non-null  int64  \n",
      " 6   cat_6   560000 non-null  int64  \n",
      " 7   cat_7   560000 non-null  int64  \n",
      " 8   cat_8   560000 non-null  int64  \n",
      " 9   cat_9   560000 non-null  int64  \n",
      " 10  cat_10  560000 non-null  int64  \n",
      " 11  cat_11  560000 non-null  int64  \n",
      " 12  cat_12  560000 non-null  float64\n",
      " 13  cat_13  560000 non-null  int64  \n",
      " 14  cat_14  560000 non-null  int64  \n",
      " 15  cat_15  560000 non-null  int64  \n",
      " 16  cat_16  560000 non-null  int64  \n",
      " 17  cat_17  560000 non-null  int64  \n",
      " 18  cat_18  560000 non-null  int64  \n",
      " 19  cat_19  560000 non-null  int64  \n",
      " 20  num_0   560000 non-null  int64  \n",
      " 21  num_1   560000 non-null  float64\n",
      " 22  num_2   560000 non-null  float64\n",
      " 23  num_3   560000 non-null  float64\n",
      " 24  num_4   560000 non-null  float64\n",
      " 25  num_5   560000 non-null  int64  \n",
      " 26  num_6   560000 non-null  float64\n",
      " 27  num_7   560000 non-null  float64\n",
      " 28  num_8   560000 non-null  float64\n",
      " 29  num_9   560000 non-null  float64\n",
      " 30  num_10  560000 non-null  float64\n",
      " 31  num_11  560000 non-null  float64\n",
      " 32  num_12  560000 non-null  float64\n",
      " 33  num_13  560000 non-null  float64\n",
      " 34  num_14  560000 non-null  float64\n",
      " 35  num_15  560000 non-null  float64\n",
      " 36  num_16  560000 non-null  float64\n",
      " 37  num_17  560000 non-null  float64\n",
      " 38  num_18  560000 non-null  float64\n",
      " 39  num_19  560000 non-null  float64\n",
      " 40  num_20  560000 non-null  float64\n",
      " 41  num_21  560000 non-null  float64\n",
      " 42  num_22  560000 non-null  float64\n",
      " 43  num_23  560000 non-null  float64\n",
      " 44  num_24  560000 non-null  float64\n",
      " 45  num_25  560000 non-null  float64\n",
      " 46  num_26  560000 non-null  float64\n",
      " 47  num_27  560000 non-null  float64\n",
      " 48  num_28  560000 non-null  float64\n",
      " 49  num_29  560000 non-null  float64\n",
      " 50  num_30  560000 non-null  float64\n",
      " 51  num_31  560000 non-null  float64\n",
      " 52  num_32  560000 non-null  float64\n",
      " 53  num_33  560000 non-null  float64\n",
      " 54  num_34  560000 non-null  float64\n",
      " 55  num_35  560000 non-null  float64\n",
      " 56  num_36  560000 non-null  float64\n",
      " 57  num_37  560000 non-null  float64\n",
      "dtypes: float64(37), int64(21)\n",
      "memory usage: 247.8 MB\n"
     ]
    }
   ],
   "source": [
    "Xtrain.info()"
   ]
  },
  {
   "cell_type": "code",
   "execution_count": 22,
   "id": "29a843e7",
   "metadata": {},
   "outputs": [],
   "source": [
    "#对模型进行归一化处理\n",
    "mms=MinMaxScaler()\n",
    "mms=mms.fit(Xtrain.iloc[:,20:])"
   ]
  },
  {
   "cell_type": "code",
   "execution_count": 23,
   "id": "41a7f965",
   "metadata": {},
   "outputs": [
    {
     "data": {
      "text/plain": [
       "array([[3.02083333e-01, 9.42102559e-03, 5.46889482e-01, ...,\n",
       "        4.95435549e-11, 0.00000000e+00, 3.60390818e-02],\n",
       "       [6.59722222e-02, 3.51039936e-04, 7.49181038e-01, ...,\n",
       "        2.06505728e-03, 1.00553759e-02, 2.19192391e-02],\n",
       "       [6.94444444e-02, 9.15700256e-04, 6.29461115e-01, ...,\n",
       "        0.00000000e+00, 4.65652047e-04, 3.44340389e-02],\n",
       "       ...,\n",
       "       [2.77777778e-01, 1.61863444e-02, 6.82244535e-01, ...,\n",
       "        0.00000000e+00, 6.82017929e-04, 1.66742624e-02],\n",
       "       [4.72222222e-01, 7.15839191e-03, 4.14383442e-01, ...,\n",
       "        1.09862041e-11, 4.92802078e-07, 1.45623279e-02],\n",
       "       [3.22916667e-01, 2.77280986e-03, 6.81521323e-01, ...,\n",
       "        0.00000000e+00, 4.92857055e-09, 3.08690110e-01]])"
      ]
     },
     "execution_count": 23,
     "metadata": {},
     "output_type": "execute_result"
    }
   ],
   "source": [
    "mms.transform(Xtrain.iloc[:,20:])"
   ]
  },
  {
   "cell_type": "code",
   "execution_count": 25,
   "id": "88e70e22",
   "metadata": {},
   "outputs": [],
   "source": [
    "Xtrain_mms=pd.DataFrame(mms.transform(Xtrain.iloc[:,20:]),columns=Xtrain.columns[20:])"
   ]
  },
  {
   "cell_type": "code",
   "execution_count": 26,
   "id": "e6ea8b68",
   "metadata": {},
   "outputs": [
    {
     "data": {
      "text/html": [
       "<div>\n",
       "<style scoped>\n",
       "    .dataframe tbody tr th:only-of-type {\n",
       "        vertical-align: middle;\n",
       "    }\n",
       "\n",
       "    .dataframe tbody tr th {\n",
       "        vertical-align: top;\n",
       "    }\n",
       "\n",
       "    .dataframe thead th {\n",
       "        text-align: right;\n",
       "    }\n",
       "</style>\n",
       "<table border=\"1\" class=\"dataframe\">\n",
       "  <thead>\n",
       "    <tr style=\"text-align: right;\">\n",
       "      <th></th>\n",
       "      <th>cat_0</th>\n",
       "      <th>cat_1</th>\n",
       "      <th>cat_2</th>\n",
       "      <th>cat_3</th>\n",
       "      <th>cat_4</th>\n",
       "      <th>cat_5</th>\n",
       "      <th>cat_6</th>\n",
       "      <th>cat_7</th>\n",
       "      <th>cat_8</th>\n",
       "      <th>cat_9</th>\n",
       "      <th>...</th>\n",
       "      <th>num_28</th>\n",
       "      <th>num_29</th>\n",
       "      <th>num_30</th>\n",
       "      <th>num_31</th>\n",
       "      <th>num_32</th>\n",
       "      <th>num_33</th>\n",
       "      <th>num_34</th>\n",
       "      <th>num_35</th>\n",
       "      <th>num_36</th>\n",
       "      <th>num_37</th>\n",
       "    </tr>\n",
       "  </thead>\n",
       "  <tbody>\n",
       "    <tr>\n",
       "      <th>0</th>\n",
       "      <td>18</td>\n",
       "      <td>31</td>\n",
       "      <td>1</td>\n",
       "      <td>4</td>\n",
       "      <td>4</td>\n",
       "      <td>1</td>\n",
       "      <td>4</td>\n",
       "      <td>4</td>\n",
       "      <td>4</td>\n",
       "      <td>4</td>\n",
       "      <td>...</td>\n",
       "      <td>0.0</td>\n",
       "      <td>0.166667</td>\n",
       "      <td>0.033333</td>\n",
       "      <td>0.066667</td>\n",
       "      <td>0.000000</td>\n",
       "      <td>0.533333</td>\n",
       "      <td>0.0</td>\n",
       "      <td>4.954355e-11</td>\n",
       "      <td>0.000000</td>\n",
       "      <td>0.036039</td>\n",
       "    </tr>\n",
       "    <tr>\n",
       "      <th>1</th>\n",
       "      <td>2</td>\n",
       "      <td>98</td>\n",
       "      <td>10</td>\n",
       "      <td>4</td>\n",
       "      <td>4</td>\n",
       "      <td>1</td>\n",
       "      <td>4</td>\n",
       "      <td>4</td>\n",
       "      <td>4</td>\n",
       "      <td>3</td>\n",
       "      <td>...</td>\n",
       "      <td>0.0</td>\n",
       "      <td>0.833333</td>\n",
       "      <td>0.433333</td>\n",
       "      <td>0.533333</td>\n",
       "      <td>0.000000</td>\n",
       "      <td>0.000000</td>\n",
       "      <td>0.0</td>\n",
       "      <td>2.065057e-03</td>\n",
       "      <td>0.010055</td>\n",
       "      <td>0.021919</td>\n",
       "    </tr>\n",
       "    <tr>\n",
       "      <th>2</th>\n",
       "      <td>25</td>\n",
       "      <td>89</td>\n",
       "      <td>1</td>\n",
       "      <td>4</td>\n",
       "      <td>3</td>\n",
       "      <td>1</td>\n",
       "      <td>4</td>\n",
       "      <td>4</td>\n",
       "      <td>4</td>\n",
       "      <td>4</td>\n",
       "      <td>...</td>\n",
       "      <td>0.0</td>\n",
       "      <td>0.600000</td>\n",
       "      <td>1.000000</td>\n",
       "      <td>0.066667</td>\n",
       "      <td>0.100000</td>\n",
       "      <td>0.033333</td>\n",
       "      <td>0.0</td>\n",
       "      <td>0.000000e+00</td>\n",
       "      <td>0.000466</td>\n",
       "      <td>0.034434</td>\n",
       "    </tr>\n",
       "    <tr>\n",
       "      <th>3</th>\n",
       "      <td>12</td>\n",
       "      <td>21</td>\n",
       "      <td>9</td>\n",
       "      <td>4</td>\n",
       "      <td>3</td>\n",
       "      <td>1</td>\n",
       "      <td>3</td>\n",
       "      <td>4</td>\n",
       "      <td>4</td>\n",
       "      <td>4</td>\n",
       "      <td>...</td>\n",
       "      <td>0.0</td>\n",
       "      <td>0.880030</td>\n",
       "      <td>0.982673</td>\n",
       "      <td>0.258740</td>\n",
       "      <td>0.200000</td>\n",
       "      <td>0.048018</td>\n",
       "      <td>0.0</td>\n",
       "      <td>2.151467e-05</td>\n",
       "      <td>0.026772</td>\n",
       "      <td>0.069261</td>\n",
       "    </tr>\n",
       "    <tr>\n",
       "      <th>4</th>\n",
       "      <td>12</td>\n",
       "      <td>69</td>\n",
       "      <td>7</td>\n",
       "      <td>4</td>\n",
       "      <td>3</td>\n",
       "      <td>1</td>\n",
       "      <td>3</td>\n",
       "      <td>4</td>\n",
       "      <td>4</td>\n",
       "      <td>4</td>\n",
       "      <td>...</td>\n",
       "      <td>0.0</td>\n",
       "      <td>0.742614</td>\n",
       "      <td>0.347538</td>\n",
       "      <td>0.495455</td>\n",
       "      <td>0.023674</td>\n",
       "      <td>0.028598</td>\n",
       "      <td>0.0</td>\n",
       "      <td>2.060347e-08</td>\n",
       "      <td>0.019029</td>\n",
       "      <td>0.107055</td>\n",
       "    </tr>\n",
       "  </tbody>\n",
       "</table>\n",
       "<p>5 rows × 58 columns</p>\n",
       "</div>"
      ],
      "text/plain": [
       "   cat_0  cat_1  cat_2  cat_3  cat_4  cat_5  cat_6  cat_7  cat_8  cat_9  ...  \\\n",
       "0     18     31      1      4      4      1      4      4      4      4  ...   \n",
       "1      2     98     10      4      4      1      4      4      4      3  ...   \n",
       "2     25     89      1      4      3      1      4      4      4      4  ...   \n",
       "3     12     21      9      4      3      1      3      4      4      4  ...   \n",
       "4     12     69      7      4      3      1      3      4      4      4  ...   \n",
       "\n",
       "   num_28    num_29    num_30    num_31    num_32    num_33  num_34  \\\n",
       "0     0.0  0.166667  0.033333  0.066667  0.000000  0.533333     0.0   \n",
       "1     0.0  0.833333  0.433333  0.533333  0.000000  0.000000     0.0   \n",
       "2     0.0  0.600000  1.000000  0.066667  0.100000  0.033333     0.0   \n",
       "3     0.0  0.880030  0.982673  0.258740  0.200000  0.048018     0.0   \n",
       "4     0.0  0.742614  0.347538  0.495455  0.023674  0.028598     0.0   \n",
       "\n",
       "         num_35    num_36    num_37  \n",
       "0  4.954355e-11  0.000000  0.036039  \n",
       "1  2.065057e-03  0.010055  0.021919  \n",
       "2  0.000000e+00  0.000466  0.034434  \n",
       "3  2.151467e-05  0.026772  0.069261  \n",
       "4  2.060347e-08  0.019029  0.107055  \n",
       "\n",
       "[5 rows x 58 columns]"
      ]
     },
     "execution_count": 26,
     "metadata": {},
     "output_type": "execute_result"
    }
   ],
   "source": [
    "Xtrain=pd.concat([Xtrain.iloc[:,0:20],Xtrain_mms],axis=1)\n",
    "Xtrain.head()"
   ]
  },
  {
   "cell_type": "code",
   "execution_count": 27,
   "id": "3b696ceb",
   "metadata": {},
   "outputs": [
    {
     "data": {
      "text/html": [
       "<div>\n",
       "<style scoped>\n",
       "    .dataframe tbody tr th:only-of-type {\n",
       "        vertical-align: middle;\n",
       "    }\n",
       "\n",
       "    .dataframe tbody tr th {\n",
       "        vertical-align: top;\n",
       "    }\n",
       "\n",
       "    .dataframe thead th {\n",
       "        text-align: right;\n",
       "    }\n",
       "</style>\n",
       "<table border=\"1\" class=\"dataframe\">\n",
       "  <thead>\n",
       "    <tr style=\"text-align: right;\">\n",
       "      <th></th>\n",
       "      <th>cat_0</th>\n",
       "      <th>cat_1</th>\n",
       "      <th>cat_2</th>\n",
       "      <th>cat_3</th>\n",
       "      <th>cat_4</th>\n",
       "      <th>cat_5</th>\n",
       "      <th>cat_6</th>\n",
       "      <th>cat_7</th>\n",
       "      <th>cat_8</th>\n",
       "      <th>cat_9</th>\n",
       "      <th>...</th>\n",
       "      <th>num_28</th>\n",
       "      <th>num_29</th>\n",
       "      <th>num_30</th>\n",
       "      <th>num_31</th>\n",
       "      <th>num_32</th>\n",
       "      <th>num_33</th>\n",
       "      <th>num_34</th>\n",
       "      <th>num_35</th>\n",
       "      <th>num_36</th>\n",
       "      <th>num_37</th>\n",
       "    </tr>\n",
       "  </thead>\n",
       "  <tbody>\n",
       "    <tr>\n",
       "      <th>0</th>\n",
       "      <td>11</td>\n",
       "      <td>12</td>\n",
       "      <td>9</td>\n",
       "      <td>4</td>\n",
       "      <td>5</td>\n",
       "      <td>1</td>\n",
       "      <td>12</td>\n",
       "      <td>4</td>\n",
       "      <td>4</td>\n",
       "      <td>4</td>\n",
       "      <td>...</td>\n",
       "      <td>0.0</td>\n",
       "      <td>0.000000</td>\n",
       "      <td>0.000000</td>\n",
       "      <td>0.000000</td>\n",
       "      <td>0.000000</td>\n",
       "      <td>0.000000</td>\n",
       "      <td>0.0</td>\n",
       "      <td>0.000000e+00</td>\n",
       "      <td>0.000000</td>\n",
       "      <td>0.055160</td>\n",
       "    </tr>\n",
       "    <tr>\n",
       "      <th>1</th>\n",
       "      <td>10</td>\n",
       "      <td>275</td>\n",
       "      <td>4</td>\n",
       "      <td>4</td>\n",
       "      <td>5</td>\n",
       "      <td>1</td>\n",
       "      <td>3</td>\n",
       "      <td>4</td>\n",
       "      <td>4</td>\n",
       "      <td>4</td>\n",
       "      <td>...</td>\n",
       "      <td>0.0</td>\n",
       "      <td>0.633333</td>\n",
       "      <td>1.000000</td>\n",
       "      <td>0.233333</td>\n",
       "      <td>0.033333</td>\n",
       "      <td>0.400000</td>\n",
       "      <td>0.0</td>\n",
       "      <td>3.308242e-03</td>\n",
       "      <td>0.013262</td>\n",
       "      <td>0.034843</td>\n",
       "    </tr>\n",
       "    <tr>\n",
       "      <th>2</th>\n",
       "      <td>18</td>\n",
       "      <td>111</td>\n",
       "      <td>8</td>\n",
       "      <td>4</td>\n",
       "      <td>3</td>\n",
       "      <td>0</td>\n",
       "      <td>5</td>\n",
       "      <td>4</td>\n",
       "      <td>4</td>\n",
       "      <td>4</td>\n",
       "      <td>...</td>\n",
       "      <td>0.0</td>\n",
       "      <td>0.936500</td>\n",
       "      <td>0.851334</td>\n",
       "      <td>0.370829</td>\n",
       "      <td>0.431164</td>\n",
       "      <td>0.486837</td>\n",
       "      <td>0.0</td>\n",
       "      <td>2.029802e-04</td>\n",
       "      <td>0.023462</td>\n",
       "      <td>0.132514</td>\n",
       "    </tr>\n",
       "    <tr>\n",
       "      <th>3</th>\n",
       "      <td>14</td>\n",
       "      <td>73</td>\n",
       "      <td>7</td>\n",
       "      <td>4</td>\n",
       "      <td>4</td>\n",
       "      <td>0</td>\n",
       "      <td>5</td>\n",
       "      <td>4</td>\n",
       "      <td>4</td>\n",
       "      <td>4</td>\n",
       "      <td>...</td>\n",
       "      <td>0.0</td>\n",
       "      <td>0.466667</td>\n",
       "      <td>0.266667</td>\n",
       "      <td>0.900000</td>\n",
       "      <td>0.000000</td>\n",
       "      <td>0.000000</td>\n",
       "      <td>0.0</td>\n",
       "      <td>1.108409e-09</td>\n",
       "      <td>0.021630</td>\n",
       "      <td>0.108363</td>\n",
       "    </tr>\n",
       "    <tr>\n",
       "      <th>4</th>\n",
       "      <td>13</td>\n",
       "      <td>62</td>\n",
       "      <td>1</td>\n",
       "      <td>4</td>\n",
       "      <td>5</td>\n",
       "      <td>0</td>\n",
       "      <td>4</td>\n",
       "      <td>4</td>\n",
       "      <td>4</td>\n",
       "      <td>4</td>\n",
       "      <td>...</td>\n",
       "      <td>0.0</td>\n",
       "      <td>0.000000</td>\n",
       "      <td>0.015386</td>\n",
       "      <td>0.000000</td>\n",
       "      <td>0.000000</td>\n",
       "      <td>0.000000</td>\n",
       "      <td>0.0</td>\n",
       "      <td>0.000000e+00</td>\n",
       "      <td>0.000000</td>\n",
       "      <td>0.023426</td>\n",
       "    </tr>\n",
       "  </tbody>\n",
       "</table>\n",
       "<p>5 rows × 58 columns</p>\n",
       "</div>"
      ],
      "text/plain": [
       "   cat_0  cat_1  cat_2  cat_3  cat_4  cat_5  cat_6  cat_7  cat_8  cat_9  ...  \\\n",
       "0     11     12      9      4      5      1     12      4      4      4  ...   \n",
       "1     10    275      4      4      5      1      3      4      4      4  ...   \n",
       "2     18    111      8      4      3      0      5      4      4      4  ...   \n",
       "3     14     73      7      4      4      0      5      4      4      4  ...   \n",
       "4     13     62      1      4      5      0      4      4      4      4  ...   \n",
       "\n",
       "   num_28    num_29    num_30    num_31    num_32    num_33  num_34  \\\n",
       "0     0.0  0.000000  0.000000  0.000000  0.000000  0.000000     0.0   \n",
       "1     0.0  0.633333  1.000000  0.233333  0.033333  0.400000     0.0   \n",
       "2     0.0  0.936500  0.851334  0.370829  0.431164  0.486837     0.0   \n",
       "3     0.0  0.466667  0.266667  0.900000  0.000000  0.000000     0.0   \n",
       "4     0.0  0.000000  0.015386  0.000000  0.000000  0.000000     0.0   \n",
       "\n",
       "         num_35    num_36    num_37  \n",
       "0  0.000000e+00  0.000000  0.055160  \n",
       "1  3.308242e-03  0.013262  0.034843  \n",
       "2  2.029802e-04  0.023462  0.132514  \n",
       "3  1.108409e-09  0.021630  0.108363  \n",
       "4  0.000000e+00  0.000000  0.023426  \n",
       "\n",
       "[5 rows x 58 columns]"
      ]
     },
     "execution_count": 27,
     "metadata": {},
     "output_type": "execute_result"
    }
   ],
   "source": [
    "Xtest_mms=pd.DataFrame(mms.transform(Xtest.iloc[:,20:]),columns=Xtest.columns[20:])\n",
    "Xtest=pd.concat([Xtest.iloc[:,0:20],Xtest_mms],axis=1)\n",
    "Xtest.head()"
   ]
  },
  {
   "cell_type": "code",
   "execution_count": 33,
   "id": "f2cdfeb3",
   "metadata": {},
   "outputs": [
    {
     "name": "stdout",
     "output_type": "stream",
     "text": [
      "训练集上的预测准确率为： 0.9867446428571428\n",
      "测试集上的预测准确率为： 0.9866791666666667\n"
     ]
    }
   ],
   "source": [
    "clf1=LR(max_iter=5000)\n",
    "clf1=clf1.fit(Xtrain,Ytrain)\n",
    "print('训练集上的预测准确率为：',clf1.score(Xtrain,Ytrain))\n",
    "print('测试集上的预测准确率为：',clf1.score(Xtest,Ytest))"
   ]
  },
  {
   "cell_type": "code",
   "execution_count": 34,
   "id": "14b85616",
   "metadata": {},
   "outputs": [
    {
     "data": {
      "text/plain": [
       "array([[552574,     15],\n",
       "       [  7408,      3]], dtype=int64)"
      ]
     },
     "execution_count": 34,
     "metadata": {},
     "output_type": "execute_result"
    }
   ],
   "source": [
    "confusion_matrix(Ytrain,clf1.predict(Xtrain))"
   ]
  },
  {
   "cell_type": "code",
   "execution_count": 35,
   "id": "d435005f",
   "metadata": {},
   "outputs": [
    {
     "data": {
      "text/plain": [
       "array([[236803,      8],\n",
       "       [  3189,      0]], dtype=int64)"
      ]
     },
     "execution_count": 35,
     "metadata": {},
     "output_type": "execute_result"
    }
   ],
   "source": [
    "confusion_matrix(Ytest,clf1.predict(Xtest))"
   ]
  },
  {
   "cell_type": "code",
   "execution_count": 36,
   "id": "d21c03f4",
   "metadata": {},
   "outputs": [
    {
     "data": {
      "text/plain": [
       "0.8261473091140665"
      ]
     },
     "execution_count": 36,
     "metadata": {},
     "output_type": "execute_result"
    }
   ],
   "source": [
    "#查看训练集上auc面积\n",
    "area=roc_auc_score(Ytrain,clf1.predict_proba(Xtrain)[:,1])\n",
    "area"
   ]
  },
  {
   "cell_type": "code",
   "execution_count": 37,
   "id": "956828d1",
   "metadata": {},
   "outputs": [
    {
     "data": {
      "text/plain": [
       "0.8325116483656432"
      ]
     },
     "execution_count": 37,
     "metadata": {},
     "output_type": "execute_result"
    }
   ],
   "source": [
    "#查看测试集上auc面积\n",
    "area=roc_auc_score(Ytest,clf1.predict_proba(Xtest)[:,1])\n",
    "area"
   ]
  },
  {
   "cell_type": "code",
   "execution_count": 38,
   "id": "e269f96d",
   "metadata": {},
   "outputs": [
    {
     "name": "stdout",
     "output_type": "stream",
     "text": [
      "              precision    recall  f1-score   support\n",
      "\n",
      "         0.0       0.99      1.00      0.99    552589\n",
      "         1.0       0.17      0.00      0.00      7411\n",
      "\n",
      "    accuracy                           0.99    560000\n",
      "   macro avg       0.58      0.50      0.50    560000\n",
      "weighted avg       0.98      0.99      0.98    560000\n",
      "\n"
     ]
    }
   ],
   "source": [
    "print(classification_report(Ytrain,clf1.predict(Xtrain)))\n",
    "#警告表示目标值为0的占比还是过于多，需要继续调优"
   ]
  },
  {
   "cell_type": "markdown",
   "id": "c2d19d26",
   "metadata": {},
   "source": [
    "# 4.2使用交叉验证选取最优参数"
   ]
  },
  {
   "cell_type": "code",
   "execution_count": 25,
   "id": "e5e3e822",
   "metadata": {},
   "outputs": [],
   "source": [
    "绘制学习曲线选取最优参数C\n",
    "s_mean=[]\n",
    "Crange= np.linspace(1,15,10)\n",
    "for i in Crange:\n",
    "    #clf=LR(C=i)\n",
    "   # s_mean.append(cross_val_score(clf,Xtrain,Ytrain,cv=5).mean())\n",
    "print(f\"当C={Crange[s_mean.index(max(s_mean))]}时,准确率最高为{max(s_mean)}\")\n",
    "plt.plot(Crange,s_mean,c=\"r\")"
   ]
  },
  {
   "cell_type": "markdown",
   "id": "f824eeb9",
   "metadata": {},
   "source": [
    "# 4.3改变样本权重"
   ]
  },
  {
   "cell_type": "code",
   "execution_count": 1,
   "id": "19e3ec8f",
   "metadata": {},
   "outputs": [
    {
     "ename": "NameError",
     "evalue": "name 'LR' is not defined",
     "output_type": "error",
     "traceback": [
      "\u001b[1;31m---------------------------------------------------------------------------\u001b[0m",
      "\u001b[1;31mNameError\u001b[0m                                 Traceback (most recent call last)",
      "Cell \u001b[1;32mIn[1], line 1\u001b[0m\n\u001b[1;32m----> 1\u001b[0m clf3\u001b[38;5;241m=\u001b[39mLR(max_iter\u001b[38;5;241m=\u001b[39m\u001b[38;5;241m10000\u001b[39m,C\u001b[38;5;241m=\u001b[39m\u001b[38;5;241m9.4\u001b[39m,class_weight\u001b[38;5;241m=\u001b[39m\u001b[38;5;124m\"\u001b[39m\u001b[38;5;124mbalanced\u001b[39m\u001b[38;5;124m\"\u001b[39m)\n\u001b[0;32m      2\u001b[0m clf3\u001b[38;5;241m=\u001b[39mclf3\u001b[38;5;241m.\u001b[39mfit(Xtrain,Ytrain)\n\u001b[0;32m      3\u001b[0m \u001b[38;5;28mprint\u001b[39m(\u001b[38;5;124m'\u001b[39m\u001b[38;5;124m训练集上的预测准确率为：\u001b[39m\u001b[38;5;124m'\u001b[39m,clf3\u001b[38;5;241m.\u001b[39mscore(Xtrain,Ytrain))\n",
      "\u001b[1;31mNameError\u001b[0m: name 'LR' is not defined"
     ]
    }
   ],
   "source": [
    "clf3=LR(max_iter=11000,C=9.4,class_weight=\"balanced\")\n",
    "clf3=clf3.fit(Xtrain,Ytrain)\n",
    "print('训练集上的预测准确率为：',clf3.score(Xtrain,Ytrain))\n",
    "print('测试集上的预测准确率为：',clf3.score(Xtest,Ytest))"
   ]
  },
  {
   "cell_type": "code",
   "execution_count": 51,
   "id": "8e8b95f4",
   "metadata": {},
   "outputs": [
    {
     "name": "stdout",
     "output_type": "stream",
     "text": [
      "              precision    recall  f1-score   support\n",
      "\n",
      "         0.0       1.00      0.78      0.88    552589\n",
      "         1.0       0.05      0.76      0.09      7411\n",
      "\n",
      "    accuracy                           0.78    560000\n",
      "   macro avg       0.52      0.77      0.48    560000\n",
      "weighted avg       0.98      0.78      0.87    560000\n",
      "\n"
     ]
    }
   ],
   "source": [
    "print(classification_report(Ytrain,clf3.predict(Xtrain)))"
   ]
  },
  {
   "cell_type": "code",
   "execution_count": 52,
   "id": "96d9192b",
   "metadata": {},
   "outputs": [
    {
     "data": {
      "text/plain": [
       "0.845489509937112"
      ]
     },
     "execution_count": 52,
     "metadata": {},
     "output_type": "execute_result"
    }
   ],
   "source": [
    "#查看训练集上auc面积\n",
    "area=roc_auc_score(Ytrain,clf3.predict_proba(Xtrain)[:,1])\n",
    "area"
   ]
  },
  {
   "cell_type": "code",
   "execution_count": 53,
   "id": "f841fec4",
   "metadata": {},
   "outputs": [
    {
     "data": {
      "text/plain": [
       "array([[185684,  51127],\n",
       "       [   720,   2469]], dtype=int64)"
      ]
     },
     "execution_count": 53,
     "metadata": {},
     "output_type": "execute_result"
    }
   ],
   "source": [
    "confusion_matrix(Ytest,clf3.predict(Xtest))"
   ]
  },
  {
   "cell_type": "code",
   "execution_count": 55,
   "id": "956546e9",
   "metadata": {},
   "outputs": [
    {
     "data": {
      "text/plain": [
       "0.8489930946264206"
      ]
     },
     "execution_count": 55,
     "metadata": {},
     "output_type": "execute_result"
    }
   ],
   "source": [
    "#查看测试集上auc面积\n",
    "area=roc_auc_score(Ytest,clf3.predict_proba(Xtest)[:,1])\n",
    "area"
   ]
  },
  {
   "cell_type": "code",
   "execution_count": 57,
   "id": "4b9fe391",
   "metadata": {},
   "outputs": [
    {
     "data": {
      "text/plain": [
       "array([[433424, 119165],\n",
       "       [  1759,   5652]], dtype=int64)"
      ]
     },
     "execution_count": 57,
     "metadata": {},
     "output_type": "execute_result"
    }
   ],
   "source": [
    "confusion_matrix(Ytrain,clf3.predict(Xtrain))"
   ]
  },
  {
   "cell_type": "markdown",
   "id": "c03ae746",
   "metadata": {},
   "source": [
    "# 4.4 利用过取样平衡样本权重"
   ]
  },
  {
   "cell_type": "code",
   "execution_count": 28,
   "id": "08df454e",
   "metadata": {},
   "outputs": [],
   "source": [
    "from imblearn.over_sampling import SMOTE\n",
    "from collections import Counter"
   ]
  },
  {
   "cell_type": "code",
   "execution_count": 29,
   "id": "45e4e187",
   "metadata": {},
   "outputs": [
    {
     "name": "stdout",
     "output_type": "stream",
     "text": [
      "Counter({0.0: 552589, 1.0: 552589})\n",
      "Counter({0.0: 236811, 1.0: 236811})\n"
     ]
    }
   ],
   "source": [
    "model_smote = SMOTE()\n",
    "X_resampled, y_resampled = model_smote.fit_resample(Xtrain, Ytrain)\n",
    "print(Counter(y_resampled))\n",
    "X_test_resampled, y_test_resampled = model_smote.fit_resample(Xtest, Ytest)\n",
    "print(Counter(y_test_resampled))"
   ]
  },
  {
   "cell_type": "code",
   "execution_count": 30,
   "id": "d95aa7bd",
   "metadata": {},
   "outputs": [
    {
     "name": "stderr",
     "output_type": "stream",
     "text": [
      "C:\\ProgramData\\anaconda3\\Lib\\site-packages\\sklearn\\linear_model\\_logistic.py:460: ConvergenceWarning: lbfgs failed to converge (status=1):\n",
      "STOP: TOTAL NO. of ITERATIONS REACHED LIMIT.\n",
      "\n",
      "Increase the number of iterations (max_iter) or scale the data as shown in:\n",
      "    https://scikit-learn.org/stable/modules/preprocessing.html\n",
      "Please also refer to the documentation for alternative solver options:\n",
      "    https://scikit-learn.org/stable/modules/linear_model.html#logistic-regression\n",
      "  n_iter_i = _check_optimize_result(\n"
     ]
    },
    {
     "name": "stdout",
     "output_type": "stream",
     "text": [
      "训练集上的预测准确率为： 0.8007886512398907\n",
      "测试集上的预测准确率为： 0.7977291666666667\n"
     ]
    }
   ],
   "source": [
    "clf4=LR(max_iter=10000,C=9.4)\n",
    "clf4=clf4.fit(X_resampled, y_resampled)\n",
    "print('训练集上的预测准确率为：',clf4.score(X_resampled, y_resampled))\n",
    "print('测试集上的预测准确率为：',clf4.score(Xtest,Ytest))"
   ]
  },
  {
   "cell_type": "code",
   "execution_count": 31,
   "id": "bd2d6527",
   "metadata": {},
   "outputs": [
    {
     "name": "stdout",
     "output_type": "stream",
     "text": [
      "测试集上的预测准确率为： 0.8098758081339127\n"
     ]
    }
   ],
   "source": [
    "print('测试集上的预测准确率为：',clf4.score(X_test_resampled,y_test_resampled))"
   ]
  },
  {
   "cell_type": "code",
   "execution_count": 32,
   "id": "06910625",
   "metadata": {},
   "outputs": [
    {
     "data": {
      "text/plain": [
       "0.8719908348749774"
      ]
     },
     "execution_count": 32,
     "metadata": {},
     "output_type": "execute_result"
    }
   ],
   "source": [
    "#查看训练集上auc面积\n",
    "area=roc_auc_score(y_resampled,clf4.predict_proba(X_resampled)[:,1])\n",
    "area"
   ]
  },
  {
   "cell_type": "code",
   "execution_count": 33,
   "id": "93748685",
   "metadata": {},
   "outputs": [
    {
     "data": {
      "text/plain": [
       "0.8785937597306618"
      ]
     },
     "execution_count": 33,
     "metadata": {},
     "output_type": "execute_result"
    }
   ],
   "source": [
    "#查看测试集上auc面积\n",
    "area=roc_auc_score(y_test_resampled,clf4.predict_proba(X_test_resampled)[:,1])\n",
    "area"
   ]
  },
  {
   "cell_type": "code",
   "execution_count": 34,
   "id": "d2da3f76",
   "metadata": {},
   "outputs": [
    {
     "data": {
      "text/plain": [
       "array([[189115,  47696],\n",
       "       [ 42351, 194460]], dtype=int64)"
      ]
     },
     "execution_count": 34,
     "metadata": {},
     "output_type": "execute_result"
    }
   ],
   "source": [
    "confusion_matrix(y_test_resampled,clf4.predict(X_test_resampled))"
   ]
  },
  {
   "cell_type": "code",
   "execution_count": 35,
   "id": "e72a8959",
   "metadata": {},
   "outputs": [
    {
     "data": {
      "text/plain": [
       "array([[441620, 110969],\n",
       "       [109195, 443394]], dtype=int64)"
      ]
     },
     "execution_count": 35,
     "metadata": {},
     "output_type": "execute_result"
    }
   ],
   "source": [
    "confusion_matrix(y_resampled,clf4.predict(X_resampled))"
   ]
  },
  {
   "cell_type": "code",
   "execution_count": 36,
   "id": "85dd6750",
   "metadata": {},
   "outputs": [
    {
     "name": "stdout",
     "output_type": "stream",
     "text": [
      "              precision    recall  f1-score   support\n",
      "\n",
      "         0.0       0.80      0.80      0.80    552589\n",
      "         1.0       0.80      0.80      0.80    552589\n",
      "\n",
      "    accuracy                           0.80   1105178\n",
      "   macro avg       0.80      0.80      0.80   1105178\n",
      "weighted avg       0.80      0.80      0.80   1105178\n",
      "\n"
     ]
    }
   ],
   "source": [
    "print(classification_report(y_resampled,clf4.predict(X_resampled)))"
   ]
  },
  {
   "cell_type": "markdown",
   "id": "aba21ac0",
   "metadata": {},
   "source": [
    "# 5最终模型"
   ]
  },
  {
   "cell_type": "code",
   "execution_count": 39,
   "id": "6234ff8a",
   "metadata": {},
   "outputs": [],
   "source": [
    "#导入所需的包\n",
    "import pandas as pd\n",
    "import numpy as np\n",
    "import matplotlib.pyplot as plt\n",
    "\n",
    "from sklearn.linear_model import LogisticRegression as LR\n",
    "from sklearn.model_selection import train_test_split\n",
    "from sklearn.metrics import confusion_matrix,classification_report\n",
    "from sklearn.metrics import roc_auc_score,roc_curve,auc\n",
    "from sklearn.preprocessing import MinMaxScaler\n",
    "from sklearn.model_selection import cross_val_score\n",
    "from imblearn.over_sampling import SMOTE"
   ]
  },
  {
   "cell_type": "code",
   "execution_count": 40,
   "id": "b37d0113",
   "metadata": {},
   "outputs": [],
   "source": [
    "#导入原始数据集\n",
    "df=pd.read_csv('./train.csv')\n",
    "#提取特征矩阵和标签\n",
    "x=df.iloc[:,1:-1]\n",
    "y=df.iloc[:,-1]\n",
    "#切分训练集和测试集,并且进行随机数打乱\n",
    "Xtrain,Xtest,Ytrain,Ytest=train_test_split(x,y,test_size=0.3,random_state=12)\n",
    "#重置训练集和测试集的索引\n",
    "for i in [Xtrain,Xtest,Ytrain,Ytest]:\n",
    "    i.reset_index(drop=True,inplace=True)\n",
    "#对模型进行归一化处理\n",
    "mms=MinMaxScaler()\n",
    "mms=mms.fit(Xtrain.iloc[:,20:])\n",
    "#对训练集进行归一化处理\n",
    "Xtrain_mms=pd.DataFrame(mms.transform(Xtrain.iloc[:,20:]),columns=Xtrain.columns[20:])\n",
    "Xtrain=pd.concat([Xtrain.iloc[:,0:20],Xtrain_mms],axis=1)\n",
    "#对测试集进行归一化处理\n",
    "Xtest_mms=pd.DataFrame(mms.transform(Xtest.iloc[:,20:]),columns=Xtest.columns[20:])\n",
    "Xtest=pd.concat([Xtest.iloc[:,0:20],Xtest_mms],axis=1)\n",
    "model_smote = SMOTE()\n",
    "#对训练集进行过采样\n",
    "Xtrain, Ytrain = model_smote.fit_resample(Xtrain, Ytrain)\n",
    "#对测试集进行过采样\n",
    "Xtest, Ytest = model_smote.fit_resample(Xtest, Ytest)"
   ]
  },
  {
   "cell_type": "code",
   "execution_count": 41,
   "id": "0c993aae",
   "metadata": {},
   "outputs": [
    {
     "name": "stdout",
     "output_type": "stream",
     "text": [
      "训练集上的预测准确率为： 0.80024937159444\n",
      "测试集上的预测准确率为： 0.8090502552668584\n"
     ]
    }
   ],
   "source": [
    "clf=LR(max_iter=11000,C=9.4)\n",
    "clf=clf.fit(Xtrain, Ytrain)\n",
    "print('训练集上的预测准确率为：',clf.score(X_resampled, y_resampled))\n",
    "print('测试集上的预测准确率为：',clf.score(Xtest,Ytest))"
   ]
  },
  {
   "cell_type": "code",
   "execution_count": 42,
   "id": "31449bec",
   "metadata": {},
   "outputs": [
    {
     "data": {
      "text/plain": [
       "array([[188956,  47855],\n",
       "       [ 42583, 194228]], dtype=int64)"
      ]
     },
     "execution_count": 42,
     "metadata": {},
     "output_type": "execute_result"
    }
   ],
   "source": [
    "confusion_matrix(Ytest,clf.predict(Xtest))"
   ]
  },
  {
   "cell_type": "code",
   "execution_count": 43,
   "id": "4e5d9f3b",
   "metadata": {},
   "outputs": [
    {
     "data": {
      "text/plain": [
       "0.8781833990349971"
      ]
     },
     "execution_count": 43,
     "metadata": {},
     "output_type": "execute_result"
    }
   ],
   "source": [
    "#查看测试集上auc面积\n",
    "area=roc_auc_score(Ytest,clf.predict_proba(Xtest)[:,1])\n",
    "area"
   ]
  },
  {
   "cell_type": "code",
   "execution_count": 44,
   "id": "2245d791",
   "metadata": {},
   "outputs": [
    {
     "name": "stdout",
     "output_type": "stream",
     "text": [
      "              precision    recall  f1-score   support\n",
      "\n",
      "         0.0       0.82      0.80      0.81    236811\n",
      "         1.0       0.80      0.82      0.81    236811\n",
      "\n",
      "    accuracy                           0.81    473622\n",
      "   macro avg       0.81      0.81      0.81    473622\n",
      "weighted avg       0.81      0.81      0.81    473622\n",
      "\n"
     ]
    }
   ],
   "source": [
    "print(classification_report(Ytest,clf.predict(Xtest)))"
   ]
  },
  {
   "cell_type": "code",
   "execution_count": 45,
   "id": "99fe364c",
   "metadata": {},
   "outputs": [],
   "source": [
    "FPR,recall,thresholds = roc_curve(Ytest,clf.predict_proba(Xtest)[:,1])"
   ]
  },
  {
   "cell_type": "code",
   "execution_count": 46,
   "id": "2d6dd26f",
   "metadata": {},
   "outputs": [
    {
     "data": {
      "image/png": "[encoded data removed]",
      "text/plain": [
       "<Figure size 640x480 with 1 Axes>"
      ]
     },
     "metadata": {},
     "output_type": "display_data"
    }
   ],
   "source": [
    "#绘制ROC曲线\n",
    "plt.figure()\n",
    "plt.plot(FPR,recall,color='red',\n",
    "        label='ROC curve (area = %0.2f)'%area)\n",
    "plt.plot([0,1],[0,1],color='black', linestyle='--')\n",
    "plt.xlim([-0.05,1.05])\n",
    "plt.ylim([-0.05,1.05])\n",
    "plt.xlabel('False Positive Rate')\n",
    "plt.ylabel('Recall')\n",
    "plt.title('ROC curve')\n",
    "plt.legend(loc='lower right')\n",
    "plt.show()"
   ]
  },
  {
   "cell_type": "code",
   "execution_count": null,
   "id": "4777ccfc",
   "metadata": {},
   "outputs": [],
   "source": []
  }
 ],
 "metadata": {
  "kernelspec": {
   "display_name": "Python 3 (ipykernel)",
   "language": "python",
   "name": "python3"
  },
  "language_info": {
   "codemirror_mode": {
    "name": "ipython",
    "version": 3
   },
   "file_extension": ".py",
   "mimetype": "text/x-python",
   "name": "python",
   "nbconvert_exporter": "python",
   "pygments_lexer": "ipython3",
   "version": "3.11.4"
  }
 },
 "nbformat": 4,
 "nbformat_minor": 5
}
